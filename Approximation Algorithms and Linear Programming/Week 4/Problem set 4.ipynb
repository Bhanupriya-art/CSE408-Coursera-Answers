{
 "cells": [
  {
   "cell_type": "markdown",
   "metadata": {
    "deletable": false,
    "editable": false,
    "nbgrader": {
     "cell_type": "markdown",
     "checksum": "7625d35c9626fb8cb6c157fe83ca2dce",
     "grade": false,
     "grade_id": "cell-83efaf4bf0fe0cda",
     "locked": true,
     "schema_version": 3,
     "solution": false,
     "task": false
    }
   },
   "source": [
    "# Problem 1\n",
    "\n",
    "We saw how to solve TSPs in this module and in particular presented two approaches to encode a TSP as an integer linear program. In this problem, we will ask you to adapt the TSP solution to the related problem of $k$ Travelling Salespeople Problem ($k$-TSP).\n",
    "\n",
    "Let $G$ be a complete graph with $n$ vertices that we will label $0, \\ldots, n-1$ (keeping Python array indexing in mind). Our costs are specified using a matrix $C$ wherein $C_{i,j}$ is the cost of the edge from vertex $i$ to $j$ for $i \\not= j$.\n",
    "\n",
    "In this problem, we have $k \\geq 1$ salespeople who must  start from vertex $0$ of the graph (presumably the location of the sales office) and together visit every location in the graph,  each returning back to vertex $0$. Each location must be visited exactly once by some salesperson in the team. Therefore, other than vertex $0$ (the start/end vertex of every salesperson's tour), no two salesperson tours have a vertex in common. Notice that for $k=1$, this is just the regular TSP problem we have studied. \n",
    "\n",
    "Also, all $k$ salespeople must be employed in the tour. In other words, if we have $k=3$ then each salesperson must start at $0$ and visit a sequence of one or more vertices and come back to $0$. No salesperson can be \"idle\".\n",
    "\n",
    "## Example-1\n",
    "\n",
    "Consider a graph with $5$ nodes and the following cost matrix:\n",
    "\n",
    "$$ \\begin{array}{c|ccccc}\n",
    "  \\text{Vertices} & 0 & 1 & 2 & 3 & 4 \\\\ \n",
    "   \\hline\n",
    " 0 & - & 3 & 4 & 3 & 5 \\\\ \n",
    " 1 & 1 & - & 2 & 4 & 1 \\\\ \n",
    " 2 & 2 & 1 & - & 5 & 4 \\\\ \n",
    " 3 & 1 & 1 & 5 & - & 4 \\\\ \n",
    " 4 & 2 & 1 & 3 & 5 & - \\\\ \n",
    " \\end{array}$$\n",
    " \n",
    " For instance $C_{2,3}$ the cost of edge from vertex $2$ to $3$ is $5$. The $-$ in the diagonal entries simply tells us that we do not care what goes in there since we do not have self-loops in the graph.\n",
    " \n",
    "The optimal $2$-TSP tour for $k=2$ salespeople is shown below.\n",
    "  - Salesperson # 1: $0 \\rightarrow 2 \\rightarrow 1 \\rightarrow 4 \\rightarrow 0$.\n",
    "  - Salesperson # 2: $0 \\rightarrow 3 \\rightarrow 0$.\n",
    "  \n",
    "The total cost of the edges traversed by the two salespeople equals $12$.\n",
    "\n",
    "For $k=3$, the optimal $3-$ TSP tour is as shown below.\n",
    "  - Salesperson # 1: $0 \\rightarrow 1 \\rightarrow 4$, \n",
    "  - Salesperson # 2: $0 \\rightarrow 2$, \n",
    "  - Salesperson # 3: $0 \\rightarrow 3$.\n",
    "\n",
    "The total cost is $16$.\n",
    "\n",
    "The objective of this problem is to formulate an ILP using the MTZ approach."
   ]
  },
  {
   "cell_type": "markdown",
   "metadata": {
    "deletable": false,
    "editable": false,
    "nbgrader": {
     "cell_type": "markdown",
     "checksum": "f537fe515e16f99980b2dd51ad5dd4e5",
     "grade": false,
     "grade_id": "cell-e5adf3a54fd8e409",
     "locked": true,
     "schema_version": 3,
     "solution": false,
     "task": false
    }
   },
   "source": [
    "### Problem 1A (MTZ approach)\n",
    "\n",
    "We will use the same ILP setup as in our notes (see the notes on Exact Approaches to TSP that includes the ILP encodings we will use in this problem).\n",
    "  - Decision variables $x_{i,j}$ for $i \\not= j$ denoting that the tour traverses the edge from $i$ to $j$.\n",
    "  - Time stamps $t_1, \\ldots, t_{n-1}$. The start/end vertex $0$ does not get a time stamp.\n",
    "  \n",
    "Modify the MTZ approach to incorporate the fact that $k$ salespeople are going to traverse the graph.\n",
    "\n",
    "#### (A) Degree Constraints\n",
    "\n",
    "What do the new degree constraints look like? Think about how many edges in the tour will need to enter/leave each vertex? Note that you may have to treat vertex $0$ differently from the other vertices of the graph.\n",
    "\n",
    "Your answer below is not graded. However you are encouraged to write it down and check with the answers to select problems provided at the end."
   ]
  },
  {
   "cell_type": "markdown",
   "metadata": {
    "deletable": false,
    "nbgrader": {
     "cell_type": "markdown",
     "checksum": "51df109ad038cafc4cdd91d50de4160b",
     "grade": true,
     "grade_id": "cell-469333c8fa8d139c",
     "locked": false,
     "points": 0,
     "schema_version": 3,
     "solution": true,
     "task": false
    }
   },
   "source": [
    "YOUR ANSWER HERE"
   ]
  },
  {
   "cell_type": "markdown",
   "metadata": {
    "deletable": false,
    "editable": false,
    "nbgrader": {
     "cell_type": "markdown",
     "checksum": "97c5975ab5b88bb808c813c0e42837aa",
     "grade": false,
     "grade_id": "cell-6619b581a4f8a728",
     "locked": true,
     "schema_version": 3,
     "solution": false,
     "task": false
    }
   },
   "source": [
    "### (B) Time Stamp Constraints \n",
    "\n",
    "Formulate the time stamp constraints for the $k$-TSP problem. Think about how you would need to change them to eliminate subtour.\n",
    "\n",
    "Your answer below is not graded. However you are encouraged to write it down and check with the answers to select problems provided at the end.\n"
   ]
  },
  {
   "cell_type": "markdown",
   "metadata": {
    "deletable": false,
    "nbgrader": {
     "cell_type": "markdown",
     "checksum": "dd1e0a0057f62cabbcb1b4d149c75961",
     "grade": true,
     "grade_id": "cell-0b4f5483ef383bbc",
     "locked": false,
     "points": 0,
     "schema_version": 3,
     "solution": true,
     "task": false
    }
   },
   "source": [
    "YOUR ANSWER HERE"
   ]
  },
  {
   "cell_type": "markdown",
   "metadata": {
    "deletable": false,
    "editable": false,
    "nbgrader": {
     "cell_type": "markdown",
     "checksum": "c872ab21895be7481b3186f3b0fd1e1a",
     "grade": false,
     "grade_id": "cell-39f03286cc2bc135",
     "locked": true,
     "schema_version": 3,
     "solution": false,
     "task": false
    }
   },
   "source": [
    "### (C) Implement\n",
    "\n",
    "Complete the implementation of the function `k_tsp_mtz_encoding(n, k, cost_matrix)` below. It follows the same input convention as the code supplied in the notes. The input `n` denotes the size of the graph with vertices labeled `0`,.., `n-1`, `k` is the number of salespeople, and `cost_matrix` is a list of lists wherein `cost_matrix[i][j]` is the edge cost to go from `i` to `j` for `i != j`. Your code must avoid accessing `cost_matrix[i][i]` to avoid bugs. These entries will be supplied as `None` in the test cases.\n",
    "\n",
    "Your code must return a list `lst` that has exactly $k$ lists in it, wherein `lst[j]` represents the locations visited by the $j^{th}$ salesperson. \n",
    "\n",
    "For the example above, for $k=2$, your code must return \n",
    "~~~\n",
    "[ [0, 2, 1, 4], [0, 3] ]\n",
    "~~~\n",
    "For the example above, for $k=3$, your code must return\n",
    "~~~\n",
    "[ [0, 1, 4], [0, 2], [0, 3] ]\n",
    "~~~"
   ]
  },
  {
   "cell_type": "code",
   "execution_count": 1,
   "metadata": {
    "ExecuteTime": {
     "end_time": "2023-10-15T04:15:35.901697Z",
     "start_time": "2023-10-15T04:15:35.887931Z"
    },
    "deletable": false,
    "nbgrader": {
     "cell_type": "code",
     "checksum": "b4e7701d14a23e70b18a56ee6e0aa6c9",
     "grade": false,
     "grade_id": "cell-e47dd4e03762d02c",
     "locked": false,
     "schema_version": 3,
     "solution": true,
     "task": false
    }
   },
   "outputs": [],
   "source": [
    "from pulp import *\n",
    "\n",
    "def k_tsp_mtz_encoding(n, k, cost_matrix):\n",
    "    # check inputs are OK\n",
    "    assert 1 <= k < n\n",
    "    assert len(cost_matrix) == n, f'Cost matrix is not {n}x{n}'\n",
    "    assert all(len(cj) == n for cj in cost_matrix), f'Cost matrix is not {n}x{n}'\n",
    "\n",
    "    prob = LpProblem('kTSP', LpMinimize)\n",
    "\n",
    "    # Decision variables\n",
    "    x = {(i, j): LpVariable(f'x_{i}_{j}', cat='Binary') for i in range(n) for j in range(n) if i != j}\n",
    "    t = {i: LpVariable(f't_{i}', lowBound=1, upBound=n, cat='Integer') for i in range(1, n)}\n",
    "\n",
    "    # Objective function\n",
    "    prob += sum(cost_matrix[i][j] * x[(i, j)] for i in range(n) for j in range(n) if i != j and cost_matrix[i][j] is not None)\n",
    "\n",
    "    # Degree constraints\n",
    "    for i in range(n):\n",
    "        if i == 0:\n",
    "            prob += sum(x[(0, j)] for j in range(1, n) if cost_matrix[0][j] is not None) == k\n",
    "            prob += sum(x[(j, 0)] for j in range(1, n) if cost_matrix[j][0] is not None) == k\n",
    "        else:\n",
    "            prob += sum(x[(i, j)] for j in range(n) if j != i and cost_matrix[i][j] is not None) == 1\n",
    "            prob += sum(x[(j, i)] for j in range(n) if j != i and cost_matrix[j][i] is not None) == 1\n",
    "\n",
    "    # Time stamp constraints\n",
    "    for i in range(1, n):\n",
    "        for j in range(1, n):\n",
    "            if i != j and cost_matrix[i][j] is not None:\n",
    "                prob += t[i] - t[j] + (n * x[(i, j)]) <= n - 1\n",
    "\n",
    "    # Solve the problem\n",
    "    prob.solve()\n",
    "\n",
    "    # Construct the solution\n",
    "    solution = [[] for _ in range(k)]\n",
    "    visited_nodes = set()\n",
    "    current_salesperson = 0\n",
    "    current_node = 0\n",
    "    solution[current_salesperson].append(current_node)\n",
    "    visited_nodes.add(current_node)\n",
    "\n",
    "    while len(visited_nodes) < n:\n",
    "        next_node = None\n",
    "        min_cost = float('inf')\n",
    "        for j in range(1, n):\n",
    "            if cost_matrix[current_node][j] is not None and x[(current_node, j)].value() > 0.5 and j not in visited_nodes:\n",
    "                if cost_matrix[current_node][j] < min_cost:\n",
    "                    next_node = j\n",
    "                    min_cost = cost_matrix[current_node][j]\n",
    "        if next_node is not None:\n",
    "            current_node = next_node\n",
    "            solution[current_salesperson].append(current_node)\n",
    "            visited_nodes.add(current_node)\n",
    "        else:\n",
    "            # If no more edges can be found, move to the next salesperson\n",
    "            current_salesperson += 1\n",
    "            if current_salesperson < k:\n",
    "                current_node = 0\n",
    "                solution[current_salesperson].append(current_node)\n",
    "                visited_nodes.add(current_node)\n",
    "            else:\n",
    "                break\n",
    "\n",
    "    # Calculate the total tour cost\n",
    "    tour_cost = 0\n",
    "    for tour in solution:\n",
    "        if tour:\n",
    "            i = 0\n",
    "            for j in tour[1:]:\n",
    "                tour_cost += cost_matrix[i][j]\n",
    "                i = j\n",
    "            tour_cost += cost_matrix[i][0]\n",
    "\n",
    "    return solution"
   ]
  },
  {
   "cell_type": "code",
   "execution_count": 2,
   "metadata": {
    "ExecuteTime": {
     "end_time": "2023-10-15T04:15:36.532103Z",
     "start_time": "2023-10-15T04:15:36.478051Z"
    },
    "deletable": false,
    "editable": false,
    "nbgrader": {
     "cell_type": "code",
     "checksum": "5eb3c719d97578ce25c85ff206070b72",
     "grade": true,
     "grade_id": "cell-f102dee236a23785",
     "locked": true,
     "points": 3,
     "schema_version": 3,
     "solution": false,
     "task": false
    },
    "scrolled": true
   },
   "outputs": [
    {
     "name": "stdout",
     "output_type": "stream",
     "text": [
      "Your code returned tours: [[0, 3], [0, 2, 1, 4]]\n",
      "Tour cost obtained by your code: 12\n",
      "test passed: 3 points\n"
     ]
    }
   ],
   "source": [
    "cost_matrix=[ [None,3,4,3,5],\n",
    "             [1, None, 2,4, 1],\n",
    "             [2, 1, None, 5, 4],\n",
    "             [1, 1, 5, None, 4],\n",
    "             [2, 1, 3, 5, None] ]\n",
    "n=5\n",
    "k=2\n",
    "all_tours = k_tsp_mtz_encoding(n, k, cost_matrix)\n",
    "print(f'Your code returned tours: {all_tours}')\n",
    "assert len(all_tours) == k, f'k={k} must yield two tours -- your code returns {len(all_tours)} tours instead'\n",
    "\n",
    "tour_cost = 0\n",
    "for tour in all_tours:\n",
    "    assert tour[0] == 0, 'Each salesperson tour must start from vertex 0'\n",
    "    i = 0\n",
    "    for j in tour[1:]:\n",
    "        tour_cost += cost_matrix[i][j]\n",
    "        i = j\n",
    "    tour_cost += cost_matrix[i][0]\n",
    "\n",
    "print(f'Tour cost obtained by your code: {tour_cost}')\n",
    "assert abs(tour_cost - 12) <= 0.001, f'Expected tour cost is 12, your code returned {tour_cost}'\n",
    "for i in range(1, n):\n",
    "    is_in_tour = [ 1 if i in tour else 0 for tour in all_tours]\n",
    "    assert sum(is_in_tour) == 1, f' vertex {i} is in {sum(is_in_tour)} tours -- this is incorrect'\n",
    "\n",
    "print('test passed: 3 points')\n"
   ]
  },
  {
   "cell_type": "code",
   "execution_count": 3,
   "metadata": {
    "ExecuteTime": {
     "end_time": "2023-10-15T04:15:37.047759Z",
     "start_time": "2023-10-15T04:15:37.020831Z"
    },
    "deletable": false,
    "editable": false,
    "nbgrader": {
     "cell_type": "code",
     "checksum": "d80dd9c8300f0b2321688d0a765b270d",
     "grade": true,
     "grade_id": "cell-8f9a204f86c84b7f",
     "locked": true,
     "points": 2,
     "schema_version": 3,
     "solution": false,
     "task": false
    }
   },
   "outputs": [
    {
     "name": "stdout",
     "output_type": "stream",
     "text": [
      "Your code returned tours: [[0, 1, 4], [0, 3], [0, 2]]\n",
      "Tour cost obtained by your code: 16\n",
      "test passed: 2 points\n"
     ]
    }
   ],
   "source": [
    "cost_matrix=[ [None,3,4,3,5],\n",
    "             [1, None, 2,4, 1],\n",
    "             [2, 1, None, 5, 4],\n",
    "             [1, 1, 5, None, 4],\n",
    "             [2, 1, 3, 5, None] ]\n",
    "n=5\n",
    "k=3\n",
    "all_tours = k_tsp_mtz_encoding(n, k, cost_matrix)\n",
    "print(f'Your code returned tours: {all_tours}')\n",
    "assert len(all_tours) == k, f'k={k} must yield two tours -- your code returns {len(all_tours)} tours instead'\n",
    "\n",
    "tour_cost = 0\n",
    "for tour in all_tours:\n",
    "    assert tour[0] == 0, 'Each salesperson tour must start from vertex 0'\n",
    "    i = 0\n",
    "    for j in tour[1:]:\n",
    "        tour_cost += cost_matrix[i][j]\n",
    "        i = j\n",
    "    tour_cost += cost_matrix[i][0]\n",
    "\n",
    "print(f'Tour cost obtained by your code: {tour_cost}')\n",
    "assert abs(tour_cost - 16) <= 0.001, f'Expected tour cost is 16, your code returned {tour_cost}'\n",
    "for i in range(1, n):\n",
    "    is_in_tour = [ 1 if i in tour else 0 for tour in all_tours]\n",
    "    assert sum(is_in_tour) == 1, f' vertex {i} is in {sum(is_in_tour)} tours -- this is incorrect'\n",
    "\n",
    "print('test passed: 2 points')"
   ]
  },
  {
   "cell_type": "code",
   "execution_count": 4,
   "metadata": {
    "deletable": false,
    "editable": false,
    "nbgrader": {
     "cell_type": "code",
     "checksum": "30b3b6c1cf584c39c08409add6fff2d5",
     "grade": true,
     "grade_id": "cell-b8417f007421c582",
     "locked": true,
     "points": 3,
     "schema_version": 3,
     "solution": false,
     "task": false
    }
   },
   "outputs": [
    {
     "name": "stdout",
     "output_type": "stream",
     "text": [
      "Your code returned tours: [[0, 6, 2, 1], [0, 7, 3, 4, 5]]\n",
      "Tour cost obtained by your code: 4\n",
      "test passed: 3 points\n"
     ]
    }
   ],
   "source": [
    "cost_matrix = [ \n",
    " [None, 1, 1, 1, 1, 1, 1, 1],\n",
    "    [0, None, 1, 2, 1, 1, 1, 1],\n",
    "    [1, 0, None, 1, 2, 2, 2, 1],\n",
    "    [1, 2, 2, None, 0, 1, 2, 1],\n",
    "    [1, 1, 1, 1, None, 1, 1, 1],\n",
    "    [0,  1, 2, 1, 1, None, 1, 1],\n",
    "    [1, 0,  1, 2, 2, 2,None, 1],\n",
    "    [1, 2, 2, 0, 1, 2, 1, None],\n",
    "]\n",
    "n = 8\n",
    "k = 2\n",
    "\n",
    "all_tours = k_tsp_mtz_encoding(n, k, cost_matrix)\n",
    "print(f'Your code returned tours: {all_tours}')\n",
    "assert len(all_tours) == k, f'k={k} must yield two tours -- your code returns {len(all_tours)} tours instead'\n",
    "\n",
    "tour_cost = 0\n",
    "for tour in all_tours:\n",
    "    assert tour[0] == 0, 'Each salesperson tour must start from vertex 0'\n",
    "    i = 0\n",
    "    for j in tour[1:]:\n",
    "        tour_cost += cost_matrix[i][j]\n",
    "        i = j\n",
    "    tour_cost += cost_matrix[i][0]\n",
    "\n",
    "print(f'Tour cost obtained by your code: {tour_cost}')\n",
    "assert abs(tour_cost - 4) <= 0.001, f'Expected tour cost is 4, your code returned {tour_cost}'\n",
    "for i in range(1, n):\n",
    "    is_in_tour = [ 1 if i in tour else 0 for tour in all_tours]\n",
    "    assert sum(is_in_tour) == 1, f' vertex {i} is in {sum(is_in_tour)} tours -- this is incorrect'\n",
    "\n",
    "print('test passed: 3 points')"
   ]
  },
  {
   "cell_type": "code",
   "execution_count": 5,
   "metadata": {
    "deletable": false,
    "editable": false,
    "nbgrader": {
     "cell_type": "code",
     "checksum": "fc6aebcb676ada2dbe7a29f20c4e4e71",
     "grade": true,
     "grade_id": "cell-03146af7d96a27d5",
     "locked": true,
     "points": 2,
     "schema_version": 3,
     "solution": false,
     "task": false
    }
   },
   "outputs": [
    {
     "name": "stdout",
     "output_type": "stream",
     "text": [
      "Your code returned tours: [[0, 2], [0, 5], [0, 6, 1], [0, 7, 3, 4]]\n",
      "Tour cost obtained by your code: 6\n",
      "test passed: 2 points\n"
     ]
    }
   ],
   "source": [
    "cost_matrix = [ \n",
    " [None, 1, 1, 1, 1, 1, 1, 1],\n",
    "    [0, None, 1, 2, 1, 1, 1, 1],\n",
    "    [1, 0, None, 1, 2, 2, 2, 1],\n",
    "    [1, 2, 2, None, 0, 1, 2, 1],\n",
    "    [1, 1, 1, 1, None, 1, 1, 1],\n",
    "    [0,  1, 2, 1, 1, None, 1, 1],\n",
    "    [1, 0,  1, 2, 2, 2,None, 1],\n",
    "    [1, 2, 2, 0, 1, 2, 1, None],\n",
    "]\n",
    "n = 8\n",
    "k = 4\n",
    "\n",
    "all_tours = k_tsp_mtz_encoding(n, k, cost_matrix)\n",
    "print(f'Your code returned tours: {all_tours}')\n",
    "assert len(all_tours) == k, f'k={k} must yield two tours -- your code returns {len(all_tours)} tours instead'\n",
    "\n",
    "tour_cost = 0\n",
    "for tour in all_tours:\n",
    "    assert tour[0] == 0, 'Each salesperson tour must start from vertex 0'\n",
    "    i = 0\n",
    "    for j in tour[1:]:\n",
    "        tour_cost += cost_matrix[i][j]\n",
    "        i = j\n",
    "    tour_cost += cost_matrix[i][0]\n",
    "\n",
    "print(f'Tour cost obtained by your code: {tour_cost}')\n",
    "assert abs(tour_cost - 6) <= 0.001, f'Expected tour cost is 6, your code returned {tour_cost}'\n",
    "for i in range(1, n):\n",
    "    is_in_tour = [ 1 if i in tour else 0 for tour in all_tours]\n",
    "    assert sum(is_in_tour) == 1, f' vertex {i} is in {sum(is_in_tour)} tours -- this is incorrect'\n",
    "\n",
    "print('test passed: 2 points')"
   ]
  },
  {
   "cell_type": "code",
   "execution_count": 6,
   "metadata": {
    "ExecuteTime": {
     "end_time": "2023-10-15T04:15:38.017559Z",
     "start_time": "2023-10-15T04:15:37.819749Z"
    },
    "deletable": false,
    "editable": false,
    "nbgrader": {
     "cell_type": "code",
     "checksum": "eaa225468818eb4468a7c53e97d7dbb5",
     "grade": true,
     "grade_id": "cell-f903e8e7ad9e3b86",
     "locked": true,
     "points": 15,
     "schema_version": 3,
     "solution": false,
     "task": false
    }
   },
   "outputs": [
    {
     "name": "stdout",
     "output_type": "stream",
     "text": [
      "Trial # 0\n",
      " n= 10, k=3\n",
      "cost_matrix = \n",
      "[[None, 4.9011509044560455, 2.088353376966785, 1.6623314601000323, 2.324587347735399, 4.7011157688268, 4.849163479468635, 2.5285546566061723, 3.7712617242790305, 1.039425493260796], [3.8248428237783347, None, 0.42054717424056975, 2.1954378498476705, 0.259480560271525, 1.4694780469738378, 4.464234140169616, 3.666759557775119, 2.320078150248632, 0.302622583712131], [0.872276689011437, 0.29796973799895266, None, 4.368204234595191, 1.8547713773100756, 2.684014301315033, 0.5058987726499142, 1.646807217901446, 2.519360578233229, 0.7825696664966114], [1.3942764070634266, 4.618507964525938, 1.9354665908828472, None, 3.7983812109657555, 2.9371584327763993, 4.364425513085923, 1.2411598267343997, 3.893534476537124, 2.464777766911924], [4.574199633088636, 2.4252087537620626, 2.600778287612947, 0.5928382329194137, None, 2.556624582524592, 3.0764061260415962, 2.7459626890565008, 4.514864579430898, 1.9826443660614284], [0.2602242028433377, 2.9379148243379483, 2.0955063268205576, 2.3504742064387174, 2.1804884203334876, None, 4.040365717822601, 1.9825934539938466, 0.28897053829601504, 4.976523686485664], [2.7231584143412846, 4.2275034276962336, 1.1548537476264027, 0.7964427393960088, 0.4903355263009096, 0.45465039634304816, None, 1.8121070818325884, 3.8227865079214594, 1.0031395331259092], [2.0585150678345707, 4.001068614808593, 2.2246312776504125, 2.6802995442803397, 4.046054214425371, 0.09976155971753387, 4.376674947946834, None, 4.653152752938337, 0.1715183151409], [3.129081455949339, 3.344548033085343, 2.851990875375905, 0.8506868097261322, 0.005417103010442181, 0.12251405611148625, 1.8281965687177348, 0.639256449177309, None, 4.880126969646018], [3.2180023198146475, 2.9883792186297264, 3.9033345982087218, 0.18381061975229318, 3.608743310317957, 3.2247386288818882, 1.234432631845639, 3.540600787803465, 1.4655162994712678, None]]\n",
      "Your code returned tours: [[0, 9, 6, 5], [0, 2, 1, 4, 3], [0, 8, 7]]\n",
      "Tour cost obtained by your code: 14.090684280803835\n",
      "------\n",
      "Trial # 1\n",
      " n= 10, k=3\n",
      "cost_matrix = \n",
      "[[None, 0.7992018971903436, 2.5676736031090552, 3.435698550379558, 1.6708299416788008, 2.7398019270503626, 2.1586007022485805, 3.188524963105961, 1.8552987713546472, 2.0076626696284556], [4.012200666092582, None, 4.843210634852707, 0.9865746601421521, 0.6647892370437897, 4.017506763934755, 0.8304053299414704, 3.835998486500621, 0.9149539862685757, 3.3372445420735635], [3.3372418762351193, 0.39044372037248365, None, 4.851205748657243, 2.3962814551869265, 3.9978401579194367, 2.944292417061442, 3.6965805517091037, 0.4040579050090548, 4.65355848396962], [2.7756813330129058, 4.8154945747734255, 4.924582822782302, None, 1.5709857032731174, 3.65517512963369, 1.3812651091108346, 1.3998807548062042, 4.61870116939254, 4.819736597813422], [4.666486440982627, 1.1455416907165645, 1.4222112859023095, 0.4944695522408288, None, 2.561507534608622, 0.13026606678939234, 1.5574608074353575, 3.0791346725641655, 3.360062153784957], [2.5432554021866176, 2.9588000552689255, 3.72159402796237, 3.7812396071637377, 2.829152717568068, None, 4.876870194507919, 0.23996529051879156, 3.26472377817339, 4.503687687251487], [4.149866347997498, 1.083910824017581, 0.17311530704511302, 1.7897518725853239, 1.1259224027594639, 3.159874155286211, None, 2.1678573030945003, 4.673980002438098, 1.2932203630960426], [4.58874087471819, 4.42844877171026, 3.1767528727391, 2.0052685593133006, 3.743622397379831, 0.9711495567834033, 2.0550738071909174, None, 0.15849295585855794, 3.359217343824021], [4.425901604047619, 3.8630346183044724, 1.4722700664126172, 1.0226988744972343, 0.8242111396137675, 1.4053917117865133, 2.745609615410158, 1.080804535700507, None, 2.210875899809031], [2.7122207586606697, 3.441841761471597, 1.5949772511378373, 3.3961203842910477, 0.5728069043336259, 3.293954288782266, 1.5135640039593667, 2.5376017238065964, 0.5408990681056969, None]]\n",
      "Your code returned tours: [[0, 1, 3], [0, 4, 6, 2, 8, 7, 5], [0, 9]]\n",
      "Tour cost obtained by your code: 16.254820033827418\n",
      "------\n",
      "Trial # 2\n",
      " n= 7, k=2\n",
      "cost_matrix = \n",
      "[[None, 0.9347943239535467, 1.1561912314971523, 4.022187641377634, 0.3611274052611907, 3.5970679062565045, 0.8092914038456567], [0.26508243428166434, None, 4.81910003733661, 2.5639199911241595, 1.6244794740006836, 0.24063142554607564, 2.979429479638523], [4.134035272178776, 1.1895670117244972, None, 2.2496785085341275, 1.7202109236820329, 2.070076443091196, 4.934100582222736], [1.2155806727050562, 0.4744686459475783, 1.6419777501038095, None, 2.6930095151993476, 3.1360711061645894, 4.414007932118987], [0.3916871283269535, 4.016787786734554, 3.4156694063227544, 1.786678262430168, None, 2.3801254909542546, 0.33508524512583293], [3.7195845277584483, 2.6640599124721867, 2.615029505714665, 2.3636243252727116, 0.2610543393356973, None, 2.388469356613802], [4.106739012765464, 4.849962225778961, 1.3404635292295537, 0.2118400739049392, 4.676236654326062, 0.794631971759378, None]]\n",
      "Your code returned tours: [[0, 6, 3], [0, 2, 1, 5, 4]]\n",
      "Tour cost obtained by your code: 5.475843286886027\n",
      "------\n",
      "Trial # 3\n",
      " n= 10, k=4\n",
      "cost_matrix = \n",
      "[[None, 0.3830237990260371, 1.1122007821458058, 4.126923385823865, 1.2305886443083596, 0.2969532561948546, 3.0436494826430005, 4.936325643641974, 4.997557606017405, 0.29570889769345243], [2.813122361062814, None, 0.41698840674642745, 2.874611587566296, 4.344859433507558, 0.3067102756683965, 3.120345183221889, 1.379368310399271, 1.1642752405491548, 1.8810106057348286], [1.3175012256891931, 2.8326223609456487, None, 0.6176264383933683, 3.8131482765402875, 1.2227944409891445, 4.12906796287066, 1.6472134232693625, 0.06637274810039395, 0.5793806666265555], [4.055583526367278, 3.286771256144068, 2.194112076979782, None, 2.030869289650599, 4.315477883972052, 0.2849913595241721, 0.19045610638290522, 2.1486060287960247, 4.654256500441197], [2.6424849061854694, 3.616943129429964, 3.303500519588142, 3.606223797855784, None, 1.798543804037196, 0.5299339852168006, 0.9482689992721, 3.112634678235116, 4.596796462293953], [1.4656209381846386, 4.047421510582668, 2.9452157782922184, 2.2142132023949532, 0.6268483871903247, None, 1.8523262883571716, 0.22255693286648282, 4.237519219450178, 2.0737570734020485], [4.859507474287904, 1.7781469970287311, 1.1847647082191781, 4.998618776835693, 3.033378582218638, 0.9229637481331615, None, 4.110835875782181, 1.5794190745325765, 3.9304302809000746], [0.1876390896571989, 4.776550438704869, 2.2786785892811383, 4.050702859611675, 0.7455546351473769, 2.276468422629078, 1.0382491242642993, None, 1.9562545787710834, 0.9990283293855134], [1.0747473805172925, 0.5111890033251981, 1.0254359501947763, 1.7002893152301168, 2.6325181996136475, 3.3358864292741064, 1.2908594794381862, 2.1382497184484013, None, 1.184676067011556], [3.149443738678766, 4.967204443985384, 3.711475213547182, 2.5189209106418176, 4.926174086921179, 0.6501754584863983, 3.4708805495230304, 0.8008667599488456, 4.268555704392444, None]]\n",
      "Your code returned tours: [[0, 9, 7], [0, 5], [0, 1, 2, 3, 6, 8], [0, 4]]\n",
      "Tour cost obtained by your code: 11.276658950912694\n",
      "------\n",
      "Trial # 4\n",
      " n= 11, k=5\n",
      "cost_matrix = \n",
      "[[None, 4.888587540050826, 2.7150669839618513, 4.7443702584741825, 0.215141196302569, 4.498761019364116, 1.5761274849231277, 0.34198098595142223, 2.4084650667881218, 1.9181891875634434, 3.990161654268099], [1.3496168391652525, None, 1.0246374573726458, 2.5913280332038275, 4.010394865000722, 3.7812581532865552, 3.5284045212019755, 3.2810119832864384, 1.0324118648978753, 1.7308729578686355, 2.0850733947681723], [2.262786964116215, 3.7851206594003295, None, 3.886614293566365, 1.4944882024886763, 3.6549233084922306, 4.318670275780347, 0.629903501956452, 3.791746627436833, 4.736399857891075, 0.3488021181980572], [0.5633549032755042, 1.2998767661383188, 4.265829026987069, None, 1.1274055487479657, 3.5193049942513595, 3.2065336429374374, 1.1037120523672024, 2.457588188682351, 4.906749669009426, 4.623989391850464], [2.0319697524581217, 3.3907351354659725, 1.3537758764599324, 3.5686588515547655, None, 3.6023182739483244, 1.4993166081695901, 2.978574378352847, 0.22620642759184795, 1.6701930750733491, 4.01711822604111], [0.06421446565851252, 4.819256297109903, 2.0348448214545356, 0.20585538010215176, 0.3034925192695076, None, 2.7710848948112132, 1.2886648095939273, 0.0742802943837817, 1.6540752188559549, 0.1339403321691507], [1.3381295093979062, 1.5889394889087844, 1.4604031300369953, 0.49783696204635575, 3.6079957122639064, 4.796431053021511, None, 3.927775581032878, 3.4507814081271952, 1.427066875531866, 0.33192160506591517], [2.8655955279144414, 1.129761746540448, 2.356135723310691, 2.9180249795968334, 4.549988300399442, 4.218303857265413, 3.2041347424017212, None, 4.644358399822649, 3.6745488944072493, 0.9819444855193366], [1.7824261457299144, 4.501417431126845, 3.4597122757467984, 2.613933099576588, 1.5457801477998212, 4.956713407421337, 0.8699623030443931, 1.2322799538222156, None, 0.774955056356601, 0.3439905391118764], [2.055190924298014, 2.3878896816252677, 2.9935621942181756, 3.788371821761442, 4.730856214763442, 3.408065788102909, 4.003956684632244, 3.2061005400605787, 4.118410204016555, None, 1.349710022127955], [2.7085009532144086, 0.5500648923123191, 1.1622196401887313, 1.5131495945395228, 1.6640914631050725, 2.3706447776474864, 3.809011919360547, 0.27648723169417133, 1.5871832574585787, 4.116045335464571, None]]\n",
      "Your code returned tours: [[0, 4, 8], [0, 7, 1], [0, 6, 3], [0, 9], [0, 2, 10, 5]]\n",
      "Tour cost obtained by your code: 17.154561148853805\n",
      "------\n",
      "test passed: 15 points\n"
     ]
    }
   ],
   "source": [
    "from random import uniform, randint\n",
    "\n",
    "def create_cost(n):\n",
    "    return [ [uniform(0, 5) if i != j else None for j in range(n)] for i in range(n)]\n",
    "\n",
    "for trial in range(5):\n",
    "    print(f'Trial # {trial}')\n",
    "    n = randint(5, 11)\n",
    "    k = randint(2, n//2)\n",
    "    print(f' n= {n}, k={k}')\n",
    "    cost_matrix = create_cost(n)\n",
    "    print('cost_matrix = ')\n",
    "    print(cost_matrix)\n",
    "    all_tours = k_tsp_mtz_encoding(n, k, cost_matrix)\n",
    "    print(f'Your code returned tours: {all_tours}')\n",
    "    assert len(all_tours) == k, f'k={k} must yield two tours -- your code returns {len(all_tours)} tours instead'\n",
    "\n",
    "    tour_cost = 0\n",
    "    for tour in all_tours:\n",
    "        assert tour[0] == 0, 'Each salesperson tour must start from vertex 0'\n",
    "        i = 0\n",
    "        for j in tour[1:]:\n",
    "            tour_cost += cost_matrix[i][j]\n",
    "            i = j\n",
    "        tour_cost += cost_matrix[i][0]\n",
    "\n",
    "    print(f'Tour cost obtained by your code: {tour_cost}')\n",
    "    #assert abs(tour_cost - 6) <= 0.001, f'Expected tour cost is 6, your code returned {tour_cost}'\n",
    "    for i in range(1, n):\n",
    "        is_in_tour = [ 1 if i in tour else 0 for tour in all_tours]\n",
    "        assert sum(is_in_tour) == 1, f' vertex {i} is in {sum(is_in_tour)} tours -- this is incorrect'\n",
    "    print('------')\n",
    "print('test passed: 15 points')"
   ]
  },
  {
   "cell_type": "markdown",
   "metadata": {
    "deletable": false,
    "editable": false,
    "nbgrader": {
     "cell_type": "markdown",
     "checksum": "7855e72aee3778160b355d2d302d981f",
     "grade": false,
     "grade_id": "cell-8027c3c55a58ac38",
     "locked": true,
     "schema_version": 3,
     "solution": false,
     "task": false
    }
   },
   "source": [
    "## Problem 1 B\n",
    "\n",
    "Notice that in previous part, it happens that with $k=4$ salespeople, we actually get a worse cost than using $k=3$ people. You can try out a few examples to convince yourself as to why this happens. \n",
    "\n",
    "We wish to modify the problem to allow salespeople to idle. In other words, although we input $k$ salespeople, the tour we construct may involve $1 \\leq l \\leq k$ salespeople. \n",
    "\n",
    "Modify the ILP formulation from the previous problem to solve the problem of up to $k$ people rather than exactly $k$ salespeople. Note that we still require that every vertex be visited exactly once by some salesperson. \n",
    "\n",
    "Complete the implementation of the function `upto_k_tsp_mtz_encoding(n, k, cost_matrix)` below. It follows the same input convention as previous problem but note that we are now computing a tour with at most $k$ salespeople. In other words, not all salespeople need be employed in the tour.\n",
    "\n",
    "Your code must return a list `lst` that has less than or equal to  $k$ lists, wherein `lst[j]` represents the locations visited by the $j^{th}$ salesperson. \n",
    "\n",
    "For Example-1 from the previous part above, for $k=2$ or $k=3$, your code must return \n",
    "~~~\n",
    "[ [0, 3, 1, 4, 2] ]\n",
    "~~~\n",
    "As it turns out, in this example a single salesperson suffices to yield optimal cost."
   ]
  },
  {
   "cell_type": "code",
   "execution_count": 7,
   "metadata": {
    "ExecuteTime": {
     "end_time": "2023-10-15T04:21:27.375137Z",
     "start_time": "2023-10-15T04:21:27.364415Z"
    },
    "deletable": false,
    "nbgrader": {
     "cell_type": "code",
     "checksum": "15095744c72bd15c0ae23243082461f0",
     "grade": false,
     "grade_id": "cell-b42d80235b921c86",
     "locked": false,
     "schema_version": 3,
     "solution": true,
     "task": false
    }
   },
   "outputs": [],
   "source": [
    "from pulp import *\n",
    "\n",
    "def upto_k_tsp_mtz_encoding(n, k, cost_matrix):\n",
    "    # check inputs are OK\n",
    "    assert 1 <= k < n\n",
    "    assert len(cost_matrix) == n, f'Cost matrix is not {n}x{n}'\n",
    "    assert all(len(cj) == n for cj in cost_matrix), f'Cost matrix is not {n}x{n}'\n",
    "\n",
    "    prob = LpProblem('kTSP', LpMinimize)\n",
    "\n",
    "    # Decision variables\n",
    "    x = {(i, j): LpVariable(f'x_{i}_{j}', cat='Binary') for i in range(n) for j in range(n) if i != j}\n",
    "    t = {i: LpVariable(f't_{i}', lowBound=1, upBound=n, cat='Integer') for i in range(1, n)}\n",
    "\n",
    "    # Objective function\n",
    "    prob += sum(cost_matrix[i][j] * x[(i, j)] for i in range(n) for j in range(n) if i != j and cost_matrix[i][j] is not None)\n",
    "\n",
    "    # Degree constraints\n",
    "    for i in range(n):\n",
    "        if i == 0:\n",
    "            prob += sum(x[(0, j)] for j in range(1, n) if cost_matrix[0][j] is not None) <= k\n",
    "            prob += sum(x[(j, 0)] for j in range(1, n) if cost_matrix[j][0] is not None) <= k\n",
    "        else:\n",
    "            prob += sum(x[(i, j)] for j in range(n) if j != i and cost_matrix[i][j] is not None) == 1\n",
    "            prob += sum(x[(j, i)] for j in range(n) if j != i and cost_matrix[j][i] is not None) == 1\n",
    "\n",
    "    # Time stamp constraints\n",
    "    for i in range(1, n):\n",
    "        for j in range(1, n):\n",
    "            if i != j and cost_matrix[i][j] is not None:\n",
    "                prob += t[i] - t[j] + (n * x[(i, j)]) <= n - 1\n",
    "\n",
    "    # Solve the problem\n",
    "    prob.solve()\n",
    "\n",
    "    # Construct the solution\n",
    "    solution = []\n",
    "    visited_nodes = set()\n",
    "    current_salesperson = 0\n",
    "    current_node = 0\n",
    "\n",
    "    solution.append([current_node])\n",
    "    visited_nodes.add(current_node)\n",
    "\n",
    "    while len(visited_nodes) < n:\n",
    "        next_node = None\n",
    "        min_cost = float('inf')\n",
    "\n",
    "        for j in range(1, n):\n",
    "            if cost_matrix[current_node][j] is not None and x[(current_node, j)].value() > 0.5 and j not in visited_nodes:\n",
    "                if cost_matrix[current_node][j] < min_cost:\n",
    "                    next_node = j\n",
    "                    min_cost = cost_matrix[current_node][j]\n",
    "\n",
    "        if next_node is not None:\n",
    "            current_node = next_node\n",
    "            solution[current_salesperson].append(current_node)\n",
    "            visited_nodes.add(current_node)\n",
    "        else:\n",
    "            # If no more edges can be found, start a new tour or stop\n",
    "            if len(visited_nodes) == n:\n",
    "                break\n",
    "            current_salesperson += 1\n",
    "            current_node = 0\n",
    "            solution.append([current_node])\n",
    "            visited_nodes.add(current_node)\n",
    "\n",
    "    return solution"
   ]
  },
  {
   "cell_type": "code",
   "execution_count": 8,
   "metadata": {
    "ExecuteTime": {
     "end_time": "2023-10-15T04:23:20.468966Z",
     "start_time": "2023-10-15T04:23:20.409463Z"
    },
    "deletable": false,
    "editable": false,
    "nbgrader": {
     "cell_type": "code",
     "checksum": "89522fac9cb884347d53c143ef2bbddb",
     "grade": true,
     "grade_id": "cell-934ddb639bc6c01d",
     "locked": true,
     "points": 3,
     "schema_version": 3,
     "solution": false,
     "task": false
    }
   },
   "outputs": [
    {
     "name": "stdout",
     "output_type": "stream",
     "text": [
      "Your code returned tours: [[0, 3, 1, 4, 2]]\n",
      "Tour cost obtained by your code: 10\n",
      "test passed: 3 points\n"
     ]
    }
   ],
   "source": [
    "cost_matrix=[ [None,3,4,3,5],\n",
    "             [1, None, 2,4, 1],\n",
    "             [2, 1, None, 5, 4],\n",
    "             [1, 1, 5, None, 4],\n",
    "             [2, 1, 3, 5, None] ]\n",
    "n=5\n",
    "k=3\n",
    "all_tours = upto_k_tsp_mtz_encoding(n, k, cost_matrix)\n",
    "print(f'Your code returned tours: {all_tours}')\n",
    "assert len(all_tours) <= k, f'<= {k} tours -- your code returns {len(all_tours)} tours instead'\n",
    "\n",
    "tour_cost = 0\n",
    "for tour in all_tours:\n",
    "    assert tour[0] == 0, 'Each salesperson tour must start from vertex 0'\n",
    "    i = 0\n",
    "    for j in tour[1:]:\n",
    "        tour_cost += cost_matrix[i][j]\n",
    "        i = j\n",
    "    tour_cost += cost_matrix[i][0]\n",
    "\n",
    "assert len(all_tours) == 1, f'In this example, just one salesperson is needed to optimally visit all vertices. Your code returns {len(all_tours)}'\n",
    "print(f'Tour cost obtained by your code: {tour_cost}')\n",
    "assert abs(tour_cost - 10) <= 0.001, f'Expected tour cost is 10, your code returned {tour_cost}'\n",
    "for i in range(1, n):\n",
    "    is_in_tour = [ 1 if i in tour else 0 for tour in all_tours]\n",
    "    assert sum(is_in_tour) == 1, f' vertex {i} is in {sum(is_in_tour)} tours -- this is incorrect'\n",
    "\n",
    "print('test passed: 3 points')"
   ]
  },
  {
   "cell_type": "code",
   "execution_count": 9,
   "metadata": {
    "ExecuteTime": {
     "end_time": "2023-10-15T04:23:21.399058Z",
     "start_time": "2023-10-15T04:23:21.349141Z"
    },
    "deletable": false,
    "editable": false,
    "nbgrader": {
     "cell_type": "code",
     "checksum": "3c0af62f53ac2b3906bdf1c4e1ae190a",
     "grade": true,
     "grade_id": "cell-17fd7b9a31ded1eb",
     "locked": true,
     "points": 3,
     "schema_version": 3,
     "solution": false,
     "task": false
    }
   },
   "outputs": [
    {
     "name": "stdout",
     "output_type": "stream",
     "text": [
      "Your code returned tours: [[0, 6, 2, 1], [0, 7, 3, 4, 5]]\n",
      "Tour cost obtained by your code: 4\n",
      "test passed: 3 points\n"
     ]
    }
   ],
   "source": [
    "cost_matrix = [ \n",
    " [None, 1, 1, 1, 1, 1, 1, 1],\n",
    "    [0, None, 1, 2, 1, 1, 1, 1],\n",
    "    [1, 0, None, 1, 2, 2, 2, 1],\n",
    "    [1, 2, 2, None, 0, 1, 2, 1],\n",
    "    [1, 1, 1, 1, None, 1, 1, 1],\n",
    "    [0,  1, 2, 1, 1, None, 1, 1],\n",
    "    [1, 0,  1, 2, 2, 2,None, 1],\n",
    "    [1, 2, 2, 0, 1, 2, 1, None],\n",
    "]\n",
    "n = 8\n",
    "k = 5\n",
    "\n",
    "all_tours = upto_k_tsp_mtz_encoding(n, k, cost_matrix)\n",
    "print(f'Your code returned tours: {all_tours}')\n",
    "assert len(all_tours) <= k, f'k={k} must yield two tours -- your code returns {len(all_tours)} tours instead'\n",
    "\n",
    "tour_cost = 0\n",
    "for tour in all_tours:\n",
    "    assert tour[0] == 0, 'Each salesperson tour must start from vertex 0'\n",
    "    i = 0\n",
    "    for j in tour[1:]:\n",
    "        tour_cost += cost_matrix[i][j]\n",
    "        i = j\n",
    "    tour_cost += cost_matrix[i][0]\n",
    "\n",
    "print(f'Tour cost obtained by your code: {tour_cost}')\n",
    "assert abs(tour_cost - 4) <= 0.001, f'Expected tour cost is 4, your code returned {tour_cost}'\n",
    "for i in range(1, n):\n",
    "    is_in_tour = [ 1 if i in tour else 0 for tour in all_tours]\n",
    "    assert sum(is_in_tour) == 1, f' vertex {i} is in {sum(is_in_tour)} tours -- this is incorrect'\n",
    "\n",
    "print('test passed: 3 points')"
   ]
  },
  {
   "cell_type": "code",
   "execution_count": 10,
   "metadata": {
    "ExecuteTime": {
     "end_time": "2023-10-15T04:25:04.327060Z",
     "start_time": "2023-10-15T04:25:03.253506Z"
    },
    "deletable": false,
    "editable": false,
    "nbgrader": {
     "cell_type": "code",
     "checksum": "c8c22495acd3dc320309609c785c0f3c",
     "grade": true,
     "grade_id": "cell-4910fe35d0e1c603",
     "locked": true,
     "points": 4,
     "schema_version": 3,
     "solution": false,
     "task": false
    }
   },
   "outputs": [
    {
     "name": "stdout",
     "output_type": "stream",
     "text": [
      "Trial # 0\n",
      " n= 11, k=3\n",
      "cost_matrix = \n",
      "[[None, 3.881702402583303, 3.1566486683051176, 4.878731564515051, 4.681933894409093, 3.106466354216021, 1.1264807550590428, 2.5328758920318357, 2.762419044662698, 4.001263211766851, 2.244960061009516], [2.851788048865753, None, 0.30589091411675096, 1.097640620727884, 2.516964499193432, 4.920417252752842, 1.753510740238986, 4.68541652876264, 3.047678903897629, 0.3032941027190217, 2.0552318131225835], [0.4911937684075951, 2.2791095610266225, None, 1.4427685301795607, 2.069241232362256, 0.363531591807596, 4.533735352622546, 2.885094146146359, 0.630046762557116, 1.724816018485205, 2.5233229353835194], [4.607192164340168, 4.409840223121589, 2.716587513900899, None, 2.527520895953814, 4.380460848852079, 0.4564003653787718, 1.4274685001599225, 1.7266276046767937, 1.2838992227314916, 4.647503099800422], [4.256142219170808, 2.105965266645213, 3.632230282513294, 1.4417213529935964, None, 3.7060623181614534, 3.8667417348902307, 2.166861367098366, 1.132033191277425, 0.5950654490612683, 3.1853048864320623], [1.6175220962103687, 4.581808975650931, 0.6625124363522167, 1.1650877039311776, 0.17853896706829409, None, 3.997752672823689, 2.0315237956962484, 3.3498185141706798, 1.698878076946243, 0.44703205926347467], [4.461508298212374, 3.668723558585827, 1.7237688563296383, 4.859885885488941, 1.217647447661795, 1.8193041771274554, None, 3.3354722545338733, 0.9406623107800915, 1.521383309560031, 4.836337986000961], [3.4981082434611994, 1.1034087904785066, 1.687036522238432, 0.9062072394624149, 1.6148080853578806, 1.2905980296915627, 1.739939750402411, None, 3.08912813991411, 1.5352574008036945, 3.552680703075501], [2.4072521807096656, 0.7754868041550389, 0.35097929228501357, 4.29389642880515, 3.9264271436732097, 4.99707366346056, 1.8115361153894094, 0.31754481724131867, None, 3.2837190913535084, 0.4884089001861991], [2.014096654683649, 1.5552032274610084, 3.7183979588440463, 1.1626212496056398, 2.247647691276031, 4.206261999992724, 0.0746248290492002, 2.5039549264561023, 1.3922645210476392, None, 3.985686726776315], [2.4584131140627425, 4.6776897224750265, 0.437182411031955, 1.439195967930611, 1.8188054229378015, 2.708692371215541, 4.247804770911553, 2.355552341839834, 1.184190206127721, 1.7906941908098417, None]]\n",
      "Your code returned tours: [[0, 10, 3, 7, 5, 4, 9, 6, 8, 1, 2]]\n",
      "Tour cost obtained by your code: 9.763685601429849\n",
      "------\n",
      "Trial # 1\n",
      " n= 9, k=2\n",
      "cost_matrix = \n",
      "[[None, 1.3309127866657255, 3.040399475206779, 4.672129857461493, 2.0662682902860685, 1.1672819983109255, 2.8984884515778155, 0.8101203245299193, 4.8570798836516635], [0.7958151836334615, None, 4.507478448847848, 2.0755821075783674, 1.8365169906363548, 2.176276632101591, 2.887682388212374, 1.1670183601054374, 0.14281461322123046], [4.313092895418242, 4.742159723901123, None, 3.362147639202662, 2.7683669969535356, 3.7152319893952868, 0.6392981412434096, 0.9493714877542214, 4.951770187382311], [4.675861448912903, 2.069444781071978, 4.701954927432577, None, 0.9970416941671773, 3.0197913586257035, 0.698266937871786, 0.5914102609867405, 1.6124564800032641], [1.923734879546601, 4.209664756295278, 4.9612389639554895, 2.0925648420543896, None, 3.66775942842681, 4.352005127715669, 2.84418695612073, 4.42009607303544], [2.9902173242752172, 3.63416768038628, 3.954540018490734, 3.5275914064240825, 4.02577446238233, None, 1.7833800515549432, 3.1184447853135273, 0.28905441656900455], [4.978789568909408, 2.562635684653917, 1.1926297802849517, 1.655235678000082, 3.9276023422944943, 1.0557343621654276, None, 1.9097412434705636, 1.8666830597449813], [0.8684402309869477, 3.4459976210631043, 0.03542485124159944, 0.9242742519236108, 2.4063150860815097, 1.3547309451214984, 4.337971675723436, None, 1.364363742215335], [4.444432923790643, 1.0692320543513993, 2.556910067140664, 3.8803283151560404, 2.961371523410075, 4.755340922020483, 4.22887909863605, 1.1719082205181857, None]]\n",
      "Your code returned tours: [[0, 4, 3, 7, 2, 6, 5, 8, 1]]\n",
      "Tour cost obtained by your code: 8.634802402531502\n",
      "------\n",
      "Trial # 2\n",
      " n= 6, k=3\n",
      "cost_matrix = \n",
      "[[None, 4.79692132829507, 0.9548482986616985, 0.8067421005411995, 3.1198424449824125, 0.08479386108952047], [4.005727718541879, None, 4.558424435720024, 0.09885054623499978, 0.6043777646320131, 4.5881697664039995], [1.215360525178859, 0.3685535641130744, None, 0.33895321162616343, 4.129853076457087, 1.5496036191725966], [3.284584111450034, 2.0418186031035845, 1.7501199537667889, None, 1.9561260527095425, 2.894787784769071], [4.660334430323257, 3.203384381844227, 2.327395573538645, 2.319241061748718, None, 0.9557476327924413], [0.764123647786849, 2.1370524926412475, 2.358045986640487, 2.3579328886336457, 2.292561537640594, None]]\n",
      "Your code returned tours: [[0, 2, 1, 3, 4, 5]]\n",
      "Tour cost obtained by your code: 5.098249742298606\n",
      "------\n",
      "Trial # 3\n",
      " n= 11, k=2\n",
      "cost_matrix = \n",
      "[[None, 3.628498341801091, 3.2820309046970415, 3.64735144726758, 4.6792280774346615, 4.642463532279817, 4.90538382417254, 3.7275753717409392, 3.1562993378858293, 2.8178825291683958, 2.671966640675745], [1.4651822161711054, None, 4.38698312435753, 1.198173791177014, 1.1446319990568359, 2.38210764646774, 0.28919086770966773, 2.074052630474039, 4.409266085221285, 2.2714964534304745, 1.0131484307377487], [0.3589158831547856, 1.5293483673079118, None, 2.5094693047539067, 2.6925171841950752, 4.527585563602061, 2.577531561658624, 4.3893358194829375, 1.9316580512860333, 4.478978927240675, 4.239107839998176], [3.8780655010250404, 1.4311865395200614, 2.9240566815494478, None, 1.4727175504655932, 3.11876208523199, 2.4182074305200416, 4.4859752095973, 2.066168007906252, 4.934804381909998, 3.4811992999944366], [0.8287729245409398, 0.4631902512516567, 2.8611172800964235, 0.5361878002662146, None, 2.4136167464514733, 1.17280944640624, 4.179545294324985, 0.8195055789845257, 2.6997147652977445, 3.3419413412473045], [2.310828155077007, 1.8891739280596398, 3.6481775504600344, 4.872463918897539, 1.7137002856449195, None, 1.9977638252343937, 2.25696562452256, 0.04514411782542471, 4.3456812566563405, 3.64235786243564], [2.870464085473849, 3.9218722352990727, 2.726467918491446, 3.0700290306017237, 0.049552398993826796, 3.1616855094613543, None, 3.2921452732831673, 3.664789697851225, 3.2338126333361332, 0.17546141977146823], [1.9387880586918083, 4.963660225533811, 1.636079711309134, 0.537643703486036, 2.208508123976829, 1.172734959438348, 3.836758209262769, None, 4.5102529960817765, 1.215711320105, 3.674303976665521], [0.8855389134072034, 3.4399854152670173, 0.42263690884161154, 0.5469160325491262, 0.9782658050330739, 1.9641310482976886, 2.430883147512553, 1.4064646595941865, None, 4.96874819887976, 1.2018448858430513], [3.106349013659911, 2.1103900724566413, 4.024415074592079, 3.5794708814237457, 3.5013878888925665, 2.1307259746146596, 4.003024072560746, 1.6732642681984355, 3.197146338411245, None, 3.6549774536256843], [1.4395620665856224, 1.9841805259626248, 3.8765988281437624, 3.415114420289884, 1.1277189942166466, 3.257166552554848, 2.7996057827550693, 0.7201054114436023, 1.6202855629387498, 3.208809654823093, None]]\n",
      "Your code returned tours: [[0, 9, 5, 8, 3, 4, 1, 6, 10, 7, 2]]\n",
      "Tour cost obtained by your code: 10.656329749263517\n",
      "------\n",
      "Trial # 4\n",
      " n= 9, k=2\n",
      "cost_matrix = \n",
      "[[None, 1.2502762374158078, 0.2602136597997301, 3.4436886170068965, 0.49644251539271766, 4.436794190532682, 1.5108942491517525, 3.5673412162625526, 0.8094550800386269], [0.7574226445178067, None, 3.076238215066374, 0.523997574015822, 4.3171888212486715, 0.680330114680322, 1.2762939815375978, 4.5258190984859885, 0.7844279942977034], [1.4195908656194884, 4.511051371481926, None, 4.1587912548656245, 4.108250262973372, 4.7542295246350035, 4.930919855221326, 0.4306163748336944, 1.7982463653833252], [2.169404539280154, 1.8258298837439624, 3.3869399429733678, None, 3.525266484566218, 4.647819726942678, 2.6872029790853476, 4.361065566958566, 3.1919975883464096], [4.996036716966105, 1.5895558841040613, 3.228399007511513, 2.3084798386162313, None, 0.505122888068254, 0.8366647162050361, 3.733319186063574, 4.1334646732601925], [4.799408394930895, 4.811722841887333, 0.8532510687571787, 0.5256066742457288, 2.7326017827108355, None, 1.9994304152670388, 2.9938686590373456, 1.6300604361287214], [0.6399228389173628, 1.3700049543549326, 1.039549533959116, 0.6735683033740492, 0.9400203725801232, 3.511213318655902, None, 4.79767427318501, 1.0689506966215827], [2.697922441793219, 3.0732519687863284, 1.1774118586847249, 0.9230277488203825, 3.4359129959630463, 0.6150576519862866, 4.9833562696188505, None, 4.56086244988711], [3.4909416293039324, 1.4548152624044168, 4.765220130599227, 2.3403643496777002, 4.006465077671035, 0.3700404259003953, 2.741088704071657, 1.476855748801802, None]]\n",
      "Your code returned tours: [[0, 4, 6, 8, 5, 2, 7, 3, 1]]\n",
      "Tour cost obtained by your code: 7.562246074792757\n",
      "------\n",
      "Trial # 5\n",
      " n= 7, k=2\n",
      "cost_matrix = \n",
      "[[None, 4.875287822986648, 2.2910501739589444, 2.104469412227972, 3.982266174591971, 3.778943464418995, 1.5098402959589419], [1.8633963778329043, None, 0.6633124484604591, 2.7405422493140428, 3.8095094060577384, 1.9906468349430946, 4.912866167693075], [1.6866538988755857, 3.801288301483343, None, 0.8097297808315973, 2.0927338497878347, 3.3583933994048087, 4.430650627084347], [4.803805182764797, 3.2258904155146246, 2.1089919142962716, None, 1.7629088994479063, 1.3805506134897494, 0.5529518534756112], [4.370353318028316, 2.531541426421084, 3.1840343316746864, 3.804998475163427, None, 0.07303787188822408, 4.916026737561251], [2.5316385944026254, 1.2669048998552435, 1.8402527065552299, 4.080069133138214, 3.5361059344701076, None, 3.1896750794494055], [1.9707553999576315, 4.620881363736885, 1.0608352163527028, 1.1609598996990638, 3.8543502257913094, 1.6107879632618094, None]]\n",
      "Your code returned tours: [[0, 6, 3, 4, 5, 1, 2]]\n",
      "Tour cost obtained by your code: 8.123618214185424\n",
      "------\n",
      "Trial # 6\n",
      " n= 8, k=3\n",
      "cost_matrix = \n",
      "[[None, 3.6918335292838904, 3.6431989252285173, 2.3308803641661155, 1.5387980566033788, 2.551939003714038, 0.5611596758322862, 3.107905160848516], [1.3811269902657464, None, 3.473600844525257, 1.5544932340142548, 2.872556491072646, 1.7299761585481392, 2.7399028332978137, 1.9339040588167855], [2.2730448855949503, 1.2883029265432628, None, 4.540657378794832, 0.8369884778508274, 4.149528982877101, 0.9780501732516378, 3.283567230264209], [0.33474542699287346, 1.6539208872380462, 4.770576913030851, None, 1.8062521285116802, 0.562404171821736, 4.629221270916975, 4.327879888499217], [0.6101025254517678, 1.9925023794430414, 1.047166401932322, 2.6027330836125384, None, 1.1637702604574378, 2.1038180225750254, 1.1518292764733962], [3.530361114907202, 1.9979082569849926, 1.2665568249667962, 2.4672912713356188, 2.4890859281316664, None, 3.213417821845757, 4.377343117610847], [4.873225663152248, 0.0536962323130219, 4.290829440774004, 1.317102905073031, 1.1133423190225327, 3.192149002986799, None, 0.6526130094497329], [4.042811942677104, 2.6438122598297813, 0.5698879521663808, 3.621758471430137, 3.7554277560548552, 2.2305931824533327, 4.2955646876382465, None]]\n",
      "Your code returned tours: [[0, 6, 7, 2, 4, 5, 1, 3]]\n",
      "Tour cost obtained by your code: 7.6715662937487865\n",
      "------\n",
      "Trial # 7\n",
      " n= 5, k=2\n",
      "cost_matrix = \n",
      "[[None, 4.8295609608517, 4.387266150544786, 0.4092273236039934, 1.800880427692485], [3.211504301358212, None, 2.126225933528511, 1.8221742253366617, 0.5661147738952765], [4.82309941270158, 4.056230606031599, None, 3.476416438660066, 2.7390909520917184], [0.6062373947387939, 0.8566647157261442, 2.2422530973656594, None, 3.2236286973882162], [4.448654908277164, 4.753326599011375, 1.859710598475695, 1.974741854788908, None]]\n",
      "Your code returned tours: [[0, 3, 1, 4, 2]]\n",
      "Tour cost obtained by your code: 8.51481682440269\n",
      "------\n",
      "Trial # 8\n",
      " n= 8, k=2\n",
      "cost_matrix = \n",
      "[[None, 2.873328535475879, 3.381396898859856, 2.6440327725122463, 3.633450128094517, 1.5474034835291062, 0.7985433372986561, 1.682297129271414], [0.5517917303651237, None, 4.201267195300675, 4.30290750481689, 0.7358715635246071, 1.755101966117067, 0.5126013715433647, 2.320611860220032], [1.872139487507164, 4.977327373240953, None, 3.2796017704733673, 2.974259473053467, 4.968203149061962, 4.891854946923286, 2.6420628002715185], [3.021894661174102, 0.969930164404561, 0.6362219711018685, None, 3.8554463754610335, 1.0600555867772177, 0.5247829651347385, 3.7023721073704543], [4.67057215855247, 0.7847868467036373, 1.2466644482772438, 0.4307900522477831, None, 3.0957570123054263, 4.357762334934431, 0.0103955822932289], [1.5522298415965552, 1.5311449085869044, 4.155228743084539, 1.7151468630932543, 1.1392184176777775, None, 2.8702307595489946, 0.5162259010438952], [3.128704014023777, 3.689803351833611, 3.3143012631384847, 3.585082009416558, 2.467306399744958, 4.491976545572622, None, 1.1206823386319504], [0.09165912004853727, 0.3335130900470318, 1.3825972964323263, 1.8617636178264763, 1.3921958119281685, 2.630937547752183, 2.4089122760058657, None]]\n",
      "Your code returned tours: [[0, 6, 7, 1, 5, 4, 3, 2]]\n",
      "Tour cost obtained by your code: 8.086210660629298\n",
      "------\n",
      "Trial # 9\n",
      " n= 10, k=3\n",
      "cost_matrix = \n",
      "[[None, 1.883671189595344, 3.716024849066106, 1.9413825225253645, 4.698161401960773, 1.8576377833813917, 0.8335445318318335, 3.835954942879213, 1.5969484370500515, 1.4517999801253112], [1.903002334723904, None, 0.9132684031059141, 2.2814238386966714, 3.770248756528199, 2.5436860950217772, 2.203217438305341, 3.440225131405903, 4.181764651861727, 0.38852154821582274], [1.8642218203587073, 2.1210233181621714, None, 1.5904742111170966, 4.352134432900983, 2.158505811757629, 3.1454422527596604, 3.6815740043165746, 0.2471502976117168, 4.237846281554756], [2.328495198660466, 2.640760413671974, 2.6393974935173077, None, 4.345722400431705, 1.7947145462288976, 3.687966768880688, 0.8603649340139763, 1.2661626288178929, 3.543512283112747], [0.049302603430226855, 4.601159415778132, 3.290538727020546, 2.563680216649209, None, 0.3654015399195937, 2.776821460392496, 2.742275025500505, 2.8972970670081875, 4.336308384240191], [0.7068686126985835, 0.7008642293845352, 1.166436994317686, 0.3122448619538043, 1.587869854304234, None, 0.5832055435231626, 3.7162150616608267, 0.8586210944739009, 1.154614214204025], [4.221361587188406, 1.800261677975565, 4.026655345440824, 4.485185807090449, 0.42422801372276997, 2.2570855684036695, None, 4.589251814424767, 0.36234153088505416, 4.474210108299923], [3.7685724585907634, 3.026167331730777, 0.8285353218946673, 0.6274203984354448, 2.453392154216359, 0.7667697299945236, 4.921788778284829, None, 3.971504560429292, 2.5292286189141833], [1.0671527523049766, 0.038403548863367165, 1.7720953462049105, 1.1679480184450726, 1.367318669654658, 0.9810714162541828, 1.3803850607846062, 3.258622547947537, None, 0.43004954529741846], [4.666964241687126, 2.922676630014929, 3.491821058615075, 2.434101710202964, 4.27504474877344, 4.72209783483841, 2.6209174394592956, 1.1252062862613277, 3.445961930637612, None]]\n",
      "Your code returned tours: [[0, 6, 4, 5, 3, 8, 1, 9, 7, 2]]\n",
      "Tour cost obtained by your code: 7.446470101839786\n",
      "------\n",
      "Trial # 10\n",
      " n= 8, k=3\n",
      "cost_matrix = \n",
      "[[None, 3.3917272256631206, 2.587092519805082, 4.089845973287955, 1.701014786989052, 3.4465297514699156, 1.2812574017249068, 0.3638636289076841], [1.8132232435856555, None, 3.9039344518865637, 0.4144242891139771, 0.8619528189078113, 0.1438729402979888, 0.776084370503341, 3.547156511659108], [2.458423017044465, 3.4122768990485723, None, 3.4045449832363497, 4.211004897701308, 2.01465481071559, 3.5542298880157763, 3.029014482939578], [0.22145675930764552, 4.048159732695248, 3.4606796875432746, None, 2.9667571994867337, 2.571355595641602, 0.12321508804492898, 4.159743102683787], [1.6102754918895434, 0.694806482556089, 0.9333828533726474, 1.1427748679966276, None, 2.493724653082521, 0.09326480175138818, 1.8646945168636702], [3.614630641590466, 1.0010025972736614, 2.9641016811023175, 1.7155955767093727, 4.432549666731749, None, 0.6435767036971141, 0.7681833388337561], [0.6448504846719222, 0.5203722347796164, 2.3597427674136857, 1.8415142661004602, 2.9476860167867738, 2.364062269503306, None, 2.228150399930493], [4.7027033722357094, 2.948450722285702, 3.0293225854415966, 4.62470482822173, 2.3865189597497043, 2.597831037314426, 4.783934249301353, None]]\n",
      "Your code returned tours: [[0, 7, 4, 2, 5, 6, 1, 3]]\n",
      "Tour cost obtained by your code: 7.49825023964398\n",
      "------\n",
      "Trial # 11\n",
      " n= 5, k=2\n",
      "cost_matrix = \n",
      "[[None, 1.3270492566957266, 3.150949327240482, 4.461246385636612, 1.3096742826293166], [3.0712332156999267, None, 2.1505515144606058, 2.9860013258611957, 3.53455844036017], [2.848978666693406, 4.686375668117217, None, 4.349736365547678, 1.932578719341918], [3.0791406676706896, 3.629317145961296, 2.4267557165343994, None, 4.783538887664137], [0.3398042350163527, 4.499252717848458, 3.808213606809239, 3.251017089022134, None]]\n",
      "Your code returned tours: [[0, 1, 3, 2, 4]]\n",
      "Tour cost obtained by your code: 9.012189253449591\n",
      "------\n",
      "Trial # 12\n",
      " n= 6, k=2\n",
      "cost_matrix = \n",
      "[[None, 4.758145880871129, 3.265373361605743, 2.261755181630796, 0.8562149696288202, 3.6158250346131275], [3.800005194936544, None, 1.2569154084687417, 1.058450950707042, 0.3480462371912202, 2.4794687225311094], [3.1008080183502855, 2.95958649864407, None, 4.099169101054058, 4.724907747088976, 3.1969843639817794], [3.2818268578300005, 2.8294195469996373, 3.257883640673465, None, 1.65330110728372, 1.0441055654401592], [1.5182151845397573, 0.3502398708211635, 0.4800811681646555, 1.988053632572051, None, 1.5013864637333663], [0.9720676667429323, 2.431792038680953, 0.057781762394942815, 4.230243389642938, 1.195912002187704, None]]\n",
      "Your code returned tours: [[0, 4, 1, 3, 5, 2]]\n",
      "Tour cost obtained by your code: 6.467601137342413\n",
      "------\n",
      "Trial # 13\n",
      " n= 6, k=3\n",
      "cost_matrix = \n",
      "[[None, 2.638428601245655, 4.638577889771223, 0.6978702453235008, 2.5456104900415633, 0.4793336523545527], [2.6990763422157613, None, 1.6365550868291645, 2.4208184272836197, 1.695208836946482, 3.7839379763544083], [4.285429983007368, 0.21330409051578791, None, 0.3295172945015118, 3.793885224630606, 4.386775209063068], [3.01798667706736, 0.5208476138309842, 4.291975758820045, None, 0.29943962645147204, 1.2002113266705532], [4.524981475304255, 3.5176725160801325, 2.7488339883046726, 0.9522607666752025, None, 2.7214016093585993], [4.922882142089529, 1.1446576173774954, 4.219814216352529, 4.219148174538111, 3.883023658786363, None]]\n",
      "Your code returned tours: [[0, 5, 1, 2, 3, 4]]\n",
      "Tour cost obtained by your code: 8.414484752818451\n",
      "------\n",
      "Trial # 14\n",
      " n= 5, k=2\n",
      "cost_matrix = \n",
      "[[None, 3.0081111070211923, 0.01716581577670795, 1.0490886021424135, 1.2686065554898445], [2.716798636984383, None, 4.15662448677668, 0.6675909191423918, 1.1316021656513335], [0.980016017123107, 1.042249863570427, None, 0.8468913839111564, 0.49961732724277563], [4.756331687284437, 2.073613161495226, 4.680429662676343, None, 2.6403991306060446], [0.6562506676571322, 4.613290942478534, 2.9606072939925756, 3.9557867112277343, None]]\n",
      "Your code returned tours: [[0, 2, 3, 1, 4]]\n",
      "Tour cost obtained by your code: 4.725523194491556\n",
      "------\n",
      "Trial # 15\n",
      " n= 10, k=5\n",
      "cost_matrix = \n",
      "[[None, 2.7407829154411756, 0.5153145628663408, 4.17110885837204, 3.302595849829758, 3.3226662450649336, 0.9710040398891928, 3.503751997225233, 2.487333362871818, 3.1315558400125343], [3.129542466908348, None, 0.0875252349637512, 3.61057556962224, 3.2579148040187, 0.4065310811777617, 0.36391344713572416, 4.114035343884014, 3.5631224405412665, 3.7010496778095336], [3.017683882447044, 4.653869060369632, None, 3.820724889776254, 2.9261937732116, 2.5316640036199853, 3.727840819611059, 1.8511586543136365, 0.06912687372766013, 2.6524126084140045], [3.4401356309683537, 1.1208301813887989, 0.7109051584226589, None, 4.803602977102664, 1.7163354683201781, 4.014786775593124, 2.081522443039605, 0.19234887213524954, 0.07316448995571767], [4.621706282570872, 1.159414673916187, 4.138396452816252, 1.9216411943185112, None, 1.9872396199051674, 3.134393209744901, 1.2858445228206379, 3.9654836728032654, 4.924888735526552], [4.318016943625823, 3.284783297238925, 0.38994139324523724, 3.3562831469845067, 4.652927013294113, None, 0.4822633314698638, 0.7692162976985251, 4.865105044097206, 0.9638380175476796], [4.747997149381136, 3.071844060986403, 3.7282673400732227, 4.033795261828149, 0.15227557482851817, 1.0151004098666805, None, 0.03365527617207542, 0.6623034021712215, 0.9660815146324453], [2.746496729893142, 0.9610563594597443, 4.934735985663433, 3.7966155986265027, 3.974967609800541, 3.3564350947860073, 2.179763677095681, None, 2.4250013274071582, 2.5305653593159567], [4.252817206530382, 2.973502841903706, 0.06170232713179569, 3.957818151657257, 3.4447827151631474, 4.216717108032252, 3.6532554283788885, 2.5817235342813487, None, 2.3860762929336947], [1.6952241506295267, 2.7059287063314685, 2.6877729228511518, 4.355526338313671, 1.3359686322699509, 0.3102752731384645, 3.273754195255898, 2.109914307695449, 3.6817829226131815, None]]\n",
      "Your code returned tours: [[0, 2, 8, 7, 1, 5, 6, 4, 3, 9]]\n",
      "Tour cost obtained by your code: 8.858321152714995\n",
      "------\n",
      "Trial # 16\n",
      " n= 6, k=3\n",
      "cost_matrix = \n",
      "[[None, 0.6628594534652021, 1.6405175973006498, 2.906222417292898, 3.3951863732759358, 2.3136218360749243], [4.784143201167647, None, 0.5767420160020514, 1.2142570180732248, 4.775320161611382, 2.916308777359356], [0.5248783327513812, 1.3249373396092285, None, 4.957439058721428, 3.861573611715695, 2.8106527766155147], [1.7119746171060397, 3.767504961327359, 3.8535111394834693, None, 1.305413994068595, 0.8507008991324], [3.1924388039070632, 2.048128755670212, 4.784686905298187, 3.8617861006054883, None, 1.0850050933764317], [3.7386411582660193, 4.5210794905417035, 4.04910928346201, 1.4375593978371926, 1.192982933373738, None]]\n",
      "Your code returned tours: [[0, 3, 5, 4, 1, 2]]\n",
      "Tour cost obtained by your code: 8.09965535422268\n",
      "------\n",
      "Trial # 17\n",
      " n= 8, k=3\n",
      "cost_matrix = \n",
      "[[None, 0.08942078329611303, 0.3173333114711724, 1.671494505964311, 1.7487531292737661, 3.35495644869984, 3.018815339701286, 1.9372721044838177], [1.461902463436104, None, 2.8260196809609632, 0.10692882905536716, 3.1918916807409055, 0.48412792910054125, 2.2497461538707206, 0.04253625806076078], [2.3972773167862016, 4.720726932946161, None, 0.5260167132233168, 3.814438638261149, 1.8761265249488224, 1.5227784009177032, 2.1714995896283056], [1.9799195921334023, 1.1535517965136122, 3.9591980361517676, None, 3.851072326990908, 2.6830207550648684, 2.3132063618611913, 0.4626496695031146], [3.2047956479267614, 4.137760652298891, 4.183923602777236, 4.776927676360443, None, 4.955368865039028, 4.942853791001601, 1.5562356329182614], [4.438811840935407, 3.5073167525156523, 2.622870960473253, 2.7607024236035658, 3.887367531336457, None, 3.9776430680025543, 1.2365334170473863], [2.7342012056649185, 0.9730681477968328, 0.6418582165552827, 3.4726991461909695, 0.5244122448693073, 4.0221581578991215, None, 3.5702806236083635], [3.9980364464456586, 0.38644226493189826, 2.680058590426207, 4.442627590329669, 3.360688877330782, 0.3613034227212464, 0.8703801282743856, None]]\n",
      "Your code returned tours: [[0, 2, 3, 1, 5, 7, 6, 4]]\n",
      "Tour cost obtained by your code: 8.317151188426482\n",
      "------\n",
      "Trial # 18\n",
      " n= 11, k=2\n",
      "cost_matrix = \n",
      "[[None, 2.6704025561586713, 3.34133021514802, 0.4365540860917877, 4.377181368444548, 0.8040332682930557, 4.536729515577745, 0.4551479074125714, 3.1036267129671073, 3.867820038221172, 1.44210250458547], [2.3340727954805125, None, 0.7256451833127037, 3.5498229570683475, 2.6722067384452846, 3.1888744688285957, 3.4938453976988577, 4.505554779313788, 1.4909874978752362, 1.5716278261412475, 4.4758865903668585], [3.5016229561505168, 0.11864015536516503, None, 3.2601651141404755, 3.5987425022548747, 0.45919285299604484, 4.588550211770745, 3.5565012933257174, 4.949999145480962, 2.7238844080233444, 4.982753223198262], [0.32969229917797216, 0.22827554450410514, 4.804052650036049, None, 1.4383230254195845, 4.662027326957648, 0.958446001828403, 4.354927328433382, 4.280146213800197, 2.1396957174179336, 4.348551203718073], [0.6260623402257282, 1.2617356922958056, 3.9401019693768897, 3.827178406450394, None, 1.0174004844302764, 1.5161097882947532, 4.431889504143138, 2.02894471664085, 0.03522762465672069, 1.4899046140433847], [3.6714831948698468, 1.7437226556355685, 3.77727820954348, 3.0155934309782766, 1.9747530023138755, None, 3.2058379771875622, 3.281388420724045, 1.090316100061819, 3.6808174852955338, 1.1479289476531007], [3.7691851668377345, 0.4338311112318666, 1.7740379157819448, 3.6701549364359676, 0.801154731840833, 1.9070022920656977, None, 3.2450413224051955, 0.705311948841415, 0.2238982382300142, 3.4376901694533397], [4.366074716656775, 3.8440808520869725, 4.962811176504078, 2.7982619963540745, 4.412862606151303, 3.557187105812576, 3.2272188170261784, None, 1.4265361068686593, 0.21783808132042504, 2.594036685123961], [4.081617377842798, 1.3001605120697812, 1.7607465269554645, 1.8240699714584556, 0.6535430352249827, 3.4431412712191234, 3.8578735333603893, 0.753284632129686, None, 0.520841662504451, 3.1899324120631], [3.4969616957679523, 3.6976067028406545, 0.37510122072050345, 2.936391731934581, 1.3283819401684354, 2.913633642562383, 4.769518836243954, 2.6406604185983316, 3.6274617658887554, None, 4.576723552197645], [1.7846153865220438, 3.8797845134525826, 4.761279008615527, 2.294175940871615, 3.529700539882829, 2.5664702278175104, 0.39281352529730473, 2.3411634818739597, 0.8720516158787622, 4.588447681944927, None]]\n",
      "Your code returned tours: [[0, 3, 1, 8, 7, 9, 2, 5, 10, 6, 4]]\n",
      "Tour cost obtained by your code: 6.929193460654755\n",
      "------\n",
      "Trial # 19\n",
      " n= 9, k=3\n",
      "cost_matrix = \n",
      "[[None, 3.498295161936193, 1.2564857462170953, 3.487275944730685, 3.2934604086497665, 4.694924246649588, 4.363787203441175, 3.620134906547763, 2.1429118601091943], [4.308218946857681, None, 2.1212498240408486, 1.2287368438432822, 4.146766343196405, 3.8775978898403847, 1.5721130973497777, 3.6959794625901305, 3.950587725239018], [0.8364379312176684, 0.339757002334507, None, 1.902109826062865, 1.370743422801809, 3.07914380837481, 3.8584852869750783, 3.8144712399310277, 3.4230259716800875], [2.7967088118206416, 4.899195423774315, 3.4845721466050334, None, 4.541835101561327, 1.6545510533446894, 1.288872208716465, 4.565477621563036, 3.3704671487009943], [0.13324254476449193, 4.049119685788253, 4.280661140660202, 2.5564043306951136, None, 4.642343264369068, 3.5150102366743567, 3.706134272868575, 2.5838205974456647], [2.1550080204263287, 4.670761037366892, 0.8345783776184312, 0.7095289371100888, 0.74953692870737, None, 1.8093155707940771, 3.19518673799641, 1.9540958034648996], [0.6991415294488162, 3.010526410685111, 2.4135010369176952, 3.128983713273921, 4.283535885530309, 0.4240169400801358, None, 1.5743834654924482, 0.0890062553082549], [2.062750986129231, 2.298524673079277, 0.971039211396934, 2.785539110164121, 3.2986543817658203, 0.5986419201997678, 3.543252783913997, None, 3.6445929786519917], [4.905465826518148, 2.1454575238450095, 4.8782784652329125, 4.4147999184305275, 2.4187508837611165, 4.550614444909921, 0.5913581081711511, 3.7177347914201286, None]]\n",
      "Your code returned tours: [[0, 8, 6, 7, 2, 1, 3, 5, 4]]\n",
      "Tour cost obtained by your code: 9.385517018164068\n",
      "------\n",
      "test passed: 4 points\n"
     ]
    }
   ],
   "source": [
    "from random import uniform, randint\n",
    "\n",
    "def create_cost(n):\n",
    "    return [ [uniform(0, 5) if i != j else None for j in range(n)] for i in range(n)]\n",
    "\n",
    "for trial in range(20):\n",
    "    print(f'Trial # {trial}')\n",
    "    n = randint(5, 11)\n",
    "    k = randint(2, n//2)\n",
    "    print(f' n= {n}, k={k}')\n",
    "    cost_matrix = create_cost(n)\n",
    "    print('cost_matrix = ')\n",
    "    print(cost_matrix)\n",
    "    all_tours = upto_k_tsp_mtz_encoding(n, k, cost_matrix)\n",
    "    print(f'Your code returned tours: {all_tours}')\n",
    "    assert len(all_tours) <= k, f'k={k} must yield two tours -- your code returns {len(all_tours)} tours instead'\n",
    "\n",
    "    tour_cost = 0\n",
    "    for tour in all_tours:\n",
    "        assert tour[0] == 0, 'Each salesperson tour must start from vertex 0'\n",
    "        i = 0\n",
    "        for j in tour[1:]:\n",
    "            tour_cost += cost_matrix[i][j]\n",
    "            i = j\n",
    "        tour_cost += cost_matrix[i][0]\n",
    "\n",
    "    print(f'Tour cost obtained by your code: {tour_cost}')\n",
    "    #assert abs(tour_cost - 6) <= 0.001, f'Expected tour cost is 6, your code returned {tour_cost}'\n",
    "    for i in range(1, n):\n",
    "        is_in_tour = [ 1 if i in tour else 0 for tour in all_tours]\n",
    "        assert sum(is_in_tour) == 1, f' vertex {i} is in {sum(is_in_tour)} tours -- this is incorrect'\n",
    "    print('------')\n",
    "print('test passed: 4 points')"
   ]
  },
  {
   "cell_type": "markdown",
   "metadata": {
    "deletable": false,
    "editable": false,
    "nbgrader": {
     "cell_type": "markdown",
     "checksum": "d1aaa1df13b9d1c99d03f15154c09be7",
     "grade": false,
     "grade_id": "cell-da7b363d5bac322b",
     "locked": true,
     "schema_version": 3,
     "solution": false,
     "task": false
    }
   },
   "source": [
    "## Problem 2 (10 points)\n",
    "\n",
    "We noted the use of Christofides algorithm for metric TSP. We noted that for non-metric TSPs it does not work. \n",
    "In fact, the shortcutting used in Christofides algorithm can be _arbitrarily_ bad for a TSP that is symmetric but fails to be a metric TSP.\n",
    "\n",
    "In this example, we would like you to frame a symmetric TSP instance ($C_{ij} = C_{ji}$) with $5$ vertices wherein the algorithm obtained by \"shortcutting\" the minimum spanning tree (MST), that would be a 2-factor approximation for metric TSP, yields an answer that can be quite \"far off\" from the optimal solution.\n",
    "\n",
    "Enter a __symmetric__ cost-matrix for the TSP below as a 5x5 matrix as a list of lists following convention in our notes. such that the optimal answer is at least $10^6$ times smaller than that obtained by the TSP-based approximation. We will test your answer by running the TSP with shortcutting algorithm.\n",
    "\n",
    "__Hint:__ Force the edges $(0,1), (1,2), (2,3)$ and $(3,4)$ to be the minimum spanning tree. But make the weight of the edge form $4$ back to $0$ very high.\n",
    "\n",
    "\n",
    "__Note:__ this problem is tricky and requires you to be very familiar with how Christofides algorithm works. It may be wise to attempt the remaining problems first before this one. Do not worry about the diagonal entry of your matrices.\n"
   ]
  },
  {
   "cell_type": "code",
   "execution_count": 11,
   "metadata": {
    "ExecuteTime": {
     "end_time": "2023-10-15T04:56:12.253057Z",
     "start_time": "2023-10-15T04:56:12.248620Z"
    },
    "deletable": false,
    "nbgrader": {
     "cell_type": "code",
     "checksum": "cb0a19d102b7947454c4149cb42aa540",
     "grade": false,
     "grade_id": "cell-6e3b113678e2fe36",
     "locked": false,
     "schema_version": 3,
     "solution": true,
     "task": false
    }
   },
   "outputs": [],
   "source": [
    "cost_matrix = [\n",
    "    [None, 1, 1, 1, 10**9],\n",
    "    [1, None, 1, 1, 1],\n",
    "    [1, 1, None, 1, 1],\n",
    "    [1, 1, 1, None, 1],\n",
    "    [10**9, 1, 1, 1, None]\n",
    "]"
   ]
  },
  {
   "cell_type": "code",
   "execution_count": 12,
   "metadata": {
    "ExecuteTime": {
     "end_time": "2023-10-15T04:56:13.341873Z",
     "start_time": "2023-10-15T04:56:13.336477Z"
    },
    "deletable": false,
    "editable": false,
    "nbgrader": {
     "cell_type": "code",
     "checksum": "703a1cf7175a7beda1a0c50dea81112d",
     "grade": true,
     "grade_id": "cell-62a3ff5de5ea71ff",
     "locked": true,
     "points": 3,
     "schema_version": 3,
     "solution": false,
     "task": false
    }
   },
   "outputs": [
    {
     "name": "stdout",
     "output_type": "stream",
     "text": [
      "Structure of your cost matrix looks OK (3 points).\n"
     ]
    }
   ],
   "source": [
    "# check that the cost matrix is symmetric.\n",
    "assert len(cost_matrix) == 5, f'Cost matrix must have 5 rows. Yours has {len(cost_matrix)} rows'\n",
    "assert all(len(cj) == 5 for cj in cost_matrix), f'Each row of the cost matrix must have 5 entries.'\n",
    "for i in range(5):\n",
    "    for j in range(i):\n",
    "        assert cost_matrix[i][j] == cost_matrix[j][i], f'Cost matrix fails to be symmetric at entries {(i,j)} and {(j,i)}'\n",
    "print('Structure of your cost matrix looks OK (3 points).')"
   ]
  },
  {
   "cell_type": "markdown",
   "metadata": {
    "deletable": false,
    "editable": false,
    "nbgrader": {
     "cell_type": "markdown",
     "checksum": "4efc070c9f6bf59f5eaca4c9306a07e3",
     "grade": false,
     "grade_id": "cell-82ad268179f6cf16",
     "locked": true,
     "schema_version": 3,
     "solution": false,
     "task": false
    }
   },
   "source": [
    "Please ensure that you run the two cells below or else, your tests will fail."
   ]
  },
  {
   "cell_type": "code",
   "execution_count": 13,
   "metadata": {
    "ExecuteTime": {
     "end_time": "2023-10-15T05:06:50.077598Z",
     "start_time": "2023-10-15T05:06:50.069418Z"
    },
    "deletable": false,
    "editable": false,
    "nbgrader": {
     "cell_type": "code",
     "checksum": "26614c7d750153806201ebf472e0a55d",
     "grade": false,
     "grade_id": "cell-71018aa2381f7212",
     "locked": true,
     "schema_version": 3,
     "solution": false,
     "task": false
    }
   },
   "outputs": [],
   "source": [
    "# MST based tsp approximation\n",
    "import networkx as nx\n",
    "\n",
    "# This code implements the simple MST based shortcutting approach that would yield factor of 2\n",
    "# approximation for metric TSPs.\n",
    "def minimum_spanning_tree_tsp(n, cost_matrix):\n",
    "    G = nx.Graph()\n",
    "    for i in range(n):\n",
    "        for j in range(i):\n",
    "            G.add_edge(i, j, weight=cost_matrix[i][j])\n",
    "    T = nx.minimum_spanning_tree(G)\n",
    "    print(f'MST for your graph has the edges {T.edges}')\n",
    "    mst_cost = 0\n",
    "    mst_dict = {} # store mst as a dictionary\n",
    "    for (i,j) in T.edges:\n",
    "        mst_cost += cost_matrix[i][j]\n",
    "        if i in mst_dict:\n",
    "            mst_dict[i].append(j)\n",
    "        else:\n",
    "            mst_dict[i] = [j]\n",
    "        if j in mst_dict:\n",
    "            mst_dict[j].append(i)\n",
    "        else:\n",
    "            mst_dict[j] = [i]\n",
    "    print(f'MST cost: {mst_cost}')\n",
    "    print(mst_dict)\n",
    "    # Let's form a tour with short cutting\n",
    "    def traverse_mst(tour_so_far, cur_node):\n",
    "        assert cur_node in mst_dict\n",
    "        next_nodes = mst_dict[cur_node]\n",
    "        for j in next_nodes:\n",
    "            if j in tour_so_far:\n",
    "                continue\n",
    "            tour_so_far.append(j)\n",
    "            traverse_mst(tour_so_far, j)\n",
    "        return\n",
    "    tour = [0]\n",
    "    traverse_mst(tour, 0)\n",
    "    i = 0\n",
    "    tour_cost = 0\n",
    "    for j in tour[1:]:\n",
    "        tour_cost += cost_matrix[i][j]\n",
    "        i = j\n",
    "    tour_cost += cost_matrix[i][0]\n",
    "    return tour, tour_cost"
   ]
  },
  {
   "cell_type": "code",
   "execution_count": 14,
   "metadata": {
    "ExecuteTime": {
     "end_time": "2023-10-15T05:06:59.658969Z",
     "start_time": "2023-10-15T05:06:59.647931Z"
    },
    "deletable": false,
    "editable": false,
    "nbgrader": {
     "cell_type": "code",
     "checksum": "8a2c3f9de1f1e6a0c99b39b4ce6ae57d",
     "grade": false,
     "grade_id": "cell-f6059309c78781bd",
     "locked": true,
     "schema_version": 3,
     "solution": false,
     "task": false
    }
   },
   "outputs": [],
   "source": [
    "# optimal TSP tour taken from our notes using MTZ encoding\n",
    "from pulp import *\n",
    "\n",
    "def mtz_encoding_tsp(n, cost_matrix):\n",
    "    assert len(cost_matrix) == n, f'Cost matrix is not {n}x{n}'\n",
    "    assert all(len(cj) == n for cj in cost_matrix), f'Cost matrix is not {n}x{n}'\n",
    "    # create our encoding variables\n",
    "    binary_vars = [ # add a binary variable x_{ij} if i not = j else simply add None\n",
    "        [ LpVariable(f'x_{i}_{j}', cat='Binary') if i != j else None for j in range(n)] \n",
    "        for i in range(n) ]\n",
    "    # add time stamps for ranges 1 .. n (skip vertex 0 for timestamps)\n",
    "    time_stamps = [LpVariable(f't_{j}', lowBound=0, upBound=n, cat='Continuous') for j in range(1, n)]\n",
    "    # create the problem\n",
    "    prob = LpProblem('TSP-MTZ', LpMinimize)\n",
    "    # create add the objective function \n",
    "    objective_function = lpSum( [ lpSum([xij*cj if xij != None else 0 for (xij, cj) in zip(brow, crow) ])\n",
    "                           for (brow, crow) in zip(binary_vars, cost_matrix)] )\n",
    "    \n",
    "    prob += objective_function \n",
    "    \n",
    "    # add the degree constraints\n",
    "    for i in range(n):\n",
    "        # Exactly one leaving variable\n",
    "        prob += lpSum([xj for xj in binary_vars[i] if xj != None]) == 1\n",
    "        # Exactly one entering\n",
    "        prob += lpSum([binary_vars[j][i] for j in range(n) if j != i]) == 1\n",
    "    # add time stamp constraints\n",
    "    for i in range(1,n):\n",
    "        for j in range(1, n):\n",
    "            if i == j: \n",
    "                continue\n",
    "            xij = binary_vars[i][j]\n",
    "            ti = time_stamps[i-1]\n",
    "            tj = time_stamps[j -1]\n",
    "            prob += tj >= ti + xij - (1-xij)*(n+1) # add the constraint\n",
    "    # Done: solve the problem\n",
    "    status = prob.solve(PULP_CBC_CMD(msg=False)) # turn off messages\n",
    "    assert status == constants.LpStatusOptimal, f'Unexpected non-optimal status {status}'\n",
    "    # Extract the tour\n",
    "    tour = [0]\n",
    "    tour_cost = 0\n",
    "    while len(tour) < n:\n",
    "        i = tour[-1]\n",
    "        # find all indices j such that x_ij >= 0.999 \n",
    "        sols = [j for (j, xij) in enumerate(binary_vars[i]) if xij != None and xij.varValue >= 0.999]\n",
    "        assert len(sols) == 1, f'{sols}' # there better be just one such vertex or something has gone quite wrong\n",
    "        j = sols[0] # extract the lone solutio \n",
    "        tour_cost = tour_cost + cost_matrix[i][j] # add to the tour cost\n",
    "        tour.append(j) # append to the tour\n",
    "        assert j != 0\n",
    "    i = tour[-1]\n",
    "    tour_cost = tour_cost + cost_matrix[i][0]\n",
    "    return tour, tour_cost\n",
    "        "
   ]
  },
  {
   "cell_type": "code",
   "execution_count": 15,
   "metadata": {
    "ExecuteTime": {
     "end_time": "2023-10-15T04:56:37.160661Z",
     "start_time": "2023-10-15T04:56:37.113817Z"
    },
    "deletable": false,
    "editable": false,
    "nbgrader": {
     "cell_type": "code",
     "checksum": "d43db69420cb630560808d02595b2ec0",
     "grade": true,
     "grade_id": "cell-43ec31eff68e08e6",
     "locked": true,
     "points": 7,
     "schema_version": 3,
     "solution": false,
     "task": false
    }
   },
   "outputs": [
    {
     "name": "stdout",
     "output_type": "stream",
     "text": [
      "MST for your graph has the edges [(1, 0), (1, 2), (1, 3), (1, 4)]\n",
      "MST cost: 4\n",
      "{1: [0, 2, 3, 4], 0: [1], 2: [1], 3: [1], 4: [1]}\n",
      "MST approximation yields tour is [0, 1, 2, 3, 4] with cost 1000000004\n",
      "Optimal tour is [0, 1, 4, 3, 2] with cost 5\n",
      "Test passed: 7 points\n"
     ]
    }
   ],
   "source": [
    "#test that exact answer is 10^6 times smaller than approximate answer.\n",
    "# compute MST based approximation\n",
    "tour, tour_cost = minimum_spanning_tree_tsp(5, cost_matrix)\n",
    "print(f'MST approximation yields tour is {tour} with cost {tour_cost}')\n",
    "# compute exact answer\n",
    "opt_tour, opt_tour_cost = mtz_encoding_tsp(5, cost_matrix)\n",
    "print(f'Optimal tour is {opt_tour} with cost {opt_tour_cost}')\n",
    "# check that the fraction is 1million times apart.\n",
    "assert tour_cost/opt_tour_cost >= 1E+06, 'The TSP + shortcutting tour must be at least 10^6 times costlier than optimum. In your case, the ratio is {tour_cost/opt_tour_cost}'\n",
    "print('Test passed: 7 points')"
   ]
  },
  {
   "cell_type": "markdown",
   "metadata": {
    "deletable": false,
    "editable": false,
    "nbgrader": {
     "cell_type": "markdown",
     "checksum": "8d485a614c611ced41114f8578f55465",
     "grade": false,
     "grade_id": "cell-4466e347a5255d40",
     "locked": true,
     "schema_version": 3,
     "solution": false,
     "task": false
    }
   },
   "source": [
    "## Problem 3\n",
    "\n",
    "In this problem, we wish to solve TSP with additional constraints. Suppose we are given a TSP instance in the form of a $n\\times n$ matrix $C$ representing a complete graph. \n",
    "\n",
    "We wish to solve a TSP but with additional constraints specified as a list $[(i_0, j_0), \\ldots, (i_k, j_k)]$ wherein each pair $(i_l, j_l)$ in the list specifies that vertex $i_l$ must be visited in the tour before vertex $j_l$. Assume that the tour starts/ends at vertex $0$ and none of the vertices in the constraint list is $0$. I.e, $i_l\\not= 0, j_l \\not= 0$ for all $0 \\leq l \\leq k$.\n",
    "\n",
    "Modify one of the ILP encodings we have presented to solve TSP with extra constraints. Implement your solution in the function `tsp_with_extra_constraints(n, cost_matrix, constr_list)` where the extra argument `constr_list` is a list of pairs `[(i0,j0),...., (ik, jk)]` that specify for each pair `(il,jl)` that vertex `il` must be visited before `jl`. Assume that the problem is feasible (no need to handle infeasible instances). \n",
    "Your code should output the optimal tour as a list.\n",
    "\n",
    "## Example\n",
    "\n",
    "Consider again the graph with $5$ nodes and the following cost matrix from problem 1:\n",
    "\n",
    "$$ \\begin{array}{c|ccccc}\n",
    "  \\text{Vertices} & 0 & 1 & 2 & 3 & 4 \\\\ \n",
    "   \\hline\n",
    " 0 & - & 3 & 4 & 3 & 5 \\\\ \n",
    " 1 & 1 & - & 2 & 4 & 1 \\\\ \n",
    " 2 & 2 & 1 & - & 5 & 4 \\\\ \n",
    " 3 & 1 & 1 & 5 & - & 4 \\\\ \n",
    " 4 & 2 & 1 & 3 & 5 & - \\\\ \n",
    " \\end{array}$$\n",
    " \n",
    "The optimal TSP tour will be $[0, 3, 1, 4, 2]$ with total cost $10$.\n",
    "\n",
    "Suppose we added the constraints $[(4, 3), (1, 2)]$ we note that the tour satisfies the constraint $(1, 2)$ since it visits vertex $1$ before vertex $2$ but it unfortunately, $(4,3)$ is violated since vetex $3$ is visited before $4$ in the tour.\n"
   ]
  },
  {
   "cell_type": "code",
   "execution_count": 73,
   "metadata": {
    "ExecuteTime": {
     "end_time": "2023-10-15T05:19:36.624259Z",
     "start_time": "2023-10-15T05:19:36.611763Z"
    },
    "deletable": false,
    "nbgrader": {
     "cell_type": "code",
     "checksum": "15adb99491c3bd71b058757b5c12073d",
     "grade": false,
     "grade_id": "cell-c71192789edb33c4",
     "locked": false,
     "schema_version": 3,
     "solution": true,
     "task": false
    }
   },
   "outputs": [],
   "source": [
    "from pulp import LpProblem, LpMinimize, LpVariable, LpInteger, lpSum, value\n",
    "\n",
    "def tsp_with_extra_constraints(n, cost_matrix, constraints):\n",
    "    assert len(cost_matrix) == n, f'Cost matrix is not {n}x{n}'\n",
    "    assert all(len(cj) == n for cj in cost_matrix), f'Cost matrix is not {n}x{n}'\n",
    "    assert all(1 <= i < n and 1 <= j < n and i != j for (i, j) in constraints)\n",
    "\n",
    "    # Create the problem\n",
    "    prob = LpProblem(\"TSP with Constraints\", LpMinimize)\n",
    "\n",
    "    # Create decision variables\n",
    "    x = {(i, j): LpVariable(f\"x_{i}_{j}\", cat=LpInteger, lowBound=0, upBound=1)\n",
    "         for i in range(n) for j in range(n) if i != j}\n",
    "    u = {i: LpVariable(f\"u_{i}\", cat=LpInteger, lowBound=2, upBound=n)\n",
    "         for i in range(1, n)}\n",
    "\n",
    "    # Objective function\n",
    "    prob += lpSum(cost_matrix[i][j] * x[i, j] for i in range(n) for j in range(n) if i != j)\n",
    "\n",
    "    # Constraints\n",
    "    # Each node is visited exactly once\n",
    "    for i in range(n):\n",
    "        prob += lpSum(x[i, j] for j in range(n) if j != i) == 1\n",
    "        prob += lpSum(x[j, i] for j in range(n) if j != i) == 1\n",
    "\n",
    "    # Subtour elimination constraints\n",
    "    for i in range(1, n):\n",
    "        for j in range(1, n):\n",
    "            if i != j:\n",
    "                prob += u[i] - u[j] + (n - 1) * x[i - 1, j - 1] <= n - 2\n",
    "\n",
    "    # Additional constraints: vertex i must be visited before vertex j\n",
    "    for i, j in constraints:\n",
    "        prob += u[i] - u[j] + (n - 1) * (1 - x[i - 1, j - 1]) <= n - 2\n",
    "\n",
    "    # Solve the problem\n",
    "    prob.solve()\n",
    "\n",
    "    # Extract the solution\n",
    "    tour = [0]\n",
    "    cur_node = 0\n",
    "    for _ in range(n - 1):\n",
    "        for j in range(n):\n",
    "            if j != cur_node and value(x[cur_node, j]) == 1:\n",
    "                tour.append(j)\n",
    "                cur_node = j\n",
    "                break\n",
    "\n",
    "    return tour"
   ]
  },
  {
   "cell_type": "code",
   "execution_count": 74,
   "metadata": {
    "ExecuteTime": {
     "end_time": "2023-10-15T05:24:11.545263Z",
     "start_time": "2023-10-15T05:24:11.512466Z"
    },
    "deletable": false,
    "editable": false,
    "nbgrader": {
     "cell_type": "code",
     "checksum": "d9e9a8ef73ddbbddb5b378a7a6dbff5f",
     "grade": true,
     "grade_id": "cell-6d36c6539b102ad2",
     "locked": true,
     "points": 3,
     "schema_version": 3,
     "solution": false,
     "task": false
    }
   },
   "outputs": [
    {
     "name": "stdout",
     "output_type": "stream",
     "text": [
      "Tour:[0, 3, 1, 4, 2]\n",
      "Cost of your tour: 10\n",
      "Test Passed (3 points)\n"
     ]
    }
   ],
   "source": [
    "cost_matrix=[ [None,3,4,3,5],\n",
    "             [1, None, 2,4, 1],\n",
    "             [2, 1, None, 5, 4],\n",
    "             [1, 1, 5, None, 4],\n",
    "             [2, 1, 3, 5, None] ]\n",
    "n=5\n",
    "constraints = [(3,4),(1,2)]\n",
    "tour = tsp_with_extra_constraints(n, cost_matrix, constraints)\n",
    "i = 0\n",
    "tour_cost = 0\n",
    "for j in tour[1:]:\n",
    "    tour_cost += cost_matrix[i][j]\n",
    "    i = j\n",
    "tour_cost += cost_matrix[i][0]\n",
    "print(f'Tour:{tour}')\n",
    "print(f'Cost of your tour: {tour_cost}')\n",
    "assert abs(tour_cost-10) <= 0.001, 'Expected cost was 10'\n",
    "for i in range(n):\n",
    "    num = sum([1 if j == i else 0 for j in tour])\n",
    "    assert  num == 1, f'Vertex {i} repeats {num} times in tour'\n",
    "for (i, j) in constraints:\n",
    "    assert tour.index(i) < tour.index(j), f'Tour does not respect constraint {(i,j)}'\n",
    "print('Test Passed (3 points)')"
   ]
  },
  {
   "cell_type": "code",
   "execution_count": 75,
   "metadata": {
    "ExecuteTime": {
     "end_time": "2023-10-15T05:24:42.003281Z",
     "start_time": "2023-10-15T05:24:41.945027Z"
    },
    "deletable": false,
    "editable": false,
    "nbgrader": {
     "cell_type": "code",
     "checksum": "edd31c4ed64921cde8b5d2b55a6d7337",
     "grade": true,
     "grade_id": "cell-6efd9b8c3a4a7996",
     "locked": true,
     "points": 2,
     "schema_version": 3,
     "solution": false,
     "task": false
    }
   },
   "outputs": [
    {
     "name": "stdout",
     "output_type": "stream",
     "text": [
      "Tour:[0, 2, 1, 4, 3]\n",
      "Cost of your tour: 12\n"
     ]
    },
    {
     "ename": "AssertionError",
     "evalue": "Expected cost was 13",
     "output_type": "error",
     "traceback": [
      "\u001b[0;31m---------------------------------------------------------------------------\u001b[0m",
      "\u001b[0;31mAssertionError\u001b[0m                            Traceback (most recent call last)",
      "\u001b[0;32m<ipython-input-75-a0da6aa74d9e>\u001b[0m in \u001b[0;36m<module>\u001b[0;34m\u001b[0m\n\u001b[1;32m     15\u001b[0m \u001b[0mprint\u001b[0m\u001b[0;34m(\u001b[0m\u001b[0;34mf'Tour:{tour}'\u001b[0m\u001b[0;34m)\u001b[0m\u001b[0;34m\u001b[0m\u001b[0;34m\u001b[0m\u001b[0m\n\u001b[1;32m     16\u001b[0m \u001b[0mprint\u001b[0m\u001b[0;34m(\u001b[0m\u001b[0;34mf'Cost of your tour: {tour_cost}'\u001b[0m\u001b[0;34m)\u001b[0m\u001b[0;34m\u001b[0m\u001b[0;34m\u001b[0m\u001b[0m\n\u001b[0;32m---> 17\u001b[0;31m \u001b[0;32massert\u001b[0m \u001b[0mabs\u001b[0m\u001b[0;34m(\u001b[0m\u001b[0mtour_cost\u001b[0m\u001b[0;34m-\u001b[0m\u001b[0;36m13\u001b[0m\u001b[0;34m)\u001b[0m \u001b[0;34m<=\u001b[0m \u001b[0;36m0.001\u001b[0m\u001b[0;34m,\u001b[0m \u001b[0;34m'Expected cost was 13'\u001b[0m\u001b[0;34m\u001b[0m\u001b[0;34m\u001b[0m\u001b[0m\n\u001b[0m\u001b[1;32m     18\u001b[0m \u001b[0;32mfor\u001b[0m \u001b[0mi\u001b[0m \u001b[0;32min\u001b[0m \u001b[0mrange\u001b[0m\u001b[0;34m(\u001b[0m\u001b[0mn\u001b[0m\u001b[0;34m)\u001b[0m\u001b[0;34m:\u001b[0m\u001b[0;34m\u001b[0m\u001b[0;34m\u001b[0m\u001b[0m\n\u001b[1;32m     19\u001b[0m     \u001b[0mnum\u001b[0m \u001b[0;34m=\u001b[0m \u001b[0msum\u001b[0m\u001b[0;34m(\u001b[0m\u001b[0;34m[\u001b[0m\u001b[0;36m1\u001b[0m \u001b[0;32mif\u001b[0m \u001b[0mj\u001b[0m \u001b[0;34m==\u001b[0m \u001b[0mi\u001b[0m \u001b[0;32melse\u001b[0m \u001b[0;36m0\u001b[0m \u001b[0;32mfor\u001b[0m \u001b[0mj\u001b[0m \u001b[0;32min\u001b[0m \u001b[0mtour\u001b[0m\u001b[0;34m]\u001b[0m\u001b[0;34m)\u001b[0m\u001b[0;34m\u001b[0m\u001b[0;34m\u001b[0m\u001b[0m\n",
      "\u001b[0;31mAssertionError\u001b[0m: Expected cost was 13"
     ]
    }
   ],
   "source": [
    "cost_matrix=[ [None,3,4,3,5],\n",
    "             [1, None, 2,4, 1],\n",
    "             [2, 1, None, 5, 4],\n",
    "             [1, 1, 5, None, 4],\n",
    "             [2, 1, 3, 5, None] ]\n",
    "n=5\n",
    "constraints = [(4,3),(1,2)]\n",
    "tour = tsp_with_extra_constraints(n, cost_matrix, constraints)\n",
    "i = 0\n",
    "tour_cost = 0\n",
    "for j in tour[1:]:\n",
    "    tour_cost += cost_matrix[i][j]\n",
    "    i = j\n",
    "tour_cost += cost_matrix[i][0]\n",
    "print(f'Tour:{tour}')\n",
    "print(f'Cost of your tour: {tour_cost}')\n",
    "assert abs(tour_cost-13) <= 0.001, 'Expected cost was 13'\n",
    "for i in range(n):\n",
    "    num = sum([1 if j == i else 0 for j in tour])\n",
    "    assert  num == 1, f'Vertex {i} repeats {num} times in tour'\n",
    "for (i, j) in constraints:\n",
    "    assert tour.index(i) < tour.index(j), f'Tour does not respect constraint {(i,j)}'\n",
    "print('Test Passed (3 points)')"
   ]
  },
  {
   "cell_type": "code",
   "execution_count": 76,
   "metadata": {
    "ExecuteTime": {
     "end_time": "2023-10-15T05:27:53.121803Z",
     "start_time": "2023-10-15T05:27:47.308766Z"
    },
    "deletable": false,
    "editable": false,
    "nbgrader": {
     "cell_type": "code",
     "checksum": "2a97d835311b91236657e24944b0b607",
     "grade": true,
     "grade_id": "cell-474fa5a6876c7de0",
     "locked": true,
     "points": 10,
     "schema_version": 3,
     "solution": false,
     "task": false
    }
   },
   "outputs": [
    {
     "name": "stdout",
     "output_type": "stream",
     "text": [
      "Trial # 0\n",
      "Tour:[0, 2, 4, 3, 1, 8, 7, 5, 6]\n",
      "Cost of your tour: 7.095543030290136\n"
     ]
    },
    {
     "ename": "AssertionError",
     "evalue": "Tour does not respect constraint (1, 3)",
     "output_type": "error",
     "traceback": [
      "\u001b[0;31m---------------------------------------------------------------------------\u001b[0m",
      "\u001b[0;31mAssertionError\u001b[0m                            Traceback (most recent call last)",
      "\u001b[0;32m<ipython-input-76-2eade90c209d>\u001b[0m in \u001b[0;36m<module>\u001b[0;34m\u001b[0m\n\u001b[1;32m     22\u001b[0m         \u001b[0;32massert\u001b[0m  \u001b[0mnum\u001b[0m \u001b[0;34m==\u001b[0m \u001b[0;36m1\u001b[0m\u001b[0;34m,\u001b[0m \u001b[0;34mf'Vertex {i} repeats {num} times in tour'\u001b[0m\u001b[0;34m\u001b[0m\u001b[0;34m\u001b[0m\u001b[0m\n\u001b[1;32m     23\u001b[0m     \u001b[0;32mfor\u001b[0m \u001b[0;34m(\u001b[0m\u001b[0mi\u001b[0m\u001b[0;34m,\u001b[0m \u001b[0mj\u001b[0m\u001b[0;34m)\u001b[0m \u001b[0;32min\u001b[0m \u001b[0mconstraints\u001b[0m\u001b[0;34m:\u001b[0m\u001b[0;34m\u001b[0m\u001b[0;34m\u001b[0m\u001b[0m\n\u001b[0;32m---> 24\u001b[0;31m         \u001b[0;32massert\u001b[0m \u001b[0mtour\u001b[0m\u001b[0;34m.\u001b[0m\u001b[0mindex\u001b[0m\u001b[0;34m(\u001b[0m\u001b[0mi\u001b[0m\u001b[0;34m)\u001b[0m \u001b[0;34m<\u001b[0m \u001b[0mtour\u001b[0m\u001b[0;34m.\u001b[0m\u001b[0mindex\u001b[0m\u001b[0;34m(\u001b[0m\u001b[0mj\u001b[0m\u001b[0;34m)\u001b[0m\u001b[0;34m,\u001b[0m \u001b[0;34mf'Tour does not respect constraint {(i,j)}'\u001b[0m\u001b[0;34m\u001b[0m\u001b[0;34m\u001b[0m\u001b[0m\n\u001b[0m\u001b[1;32m     25\u001b[0m \u001b[0mprint\u001b[0m\u001b[0;34m(\u001b[0m\u001b[0;34m'Test Passed (10 points)'\u001b[0m\u001b[0;34m)\u001b[0m\u001b[0;34m\u001b[0m\u001b[0;34m\u001b[0m\u001b[0m\n",
      "\u001b[0;31mAssertionError\u001b[0m: Tour does not respect constraint (1, 3)"
     ]
    }
   ],
   "source": [
    "from random import uniform, randint\n",
    "\n",
    "def create_cost(n):\n",
    "    return [ [uniform(0, 5) if i != j else None for j in range(n)] for i in range(n)]\n",
    "\n",
    "for trial in range(20):\n",
    "    print(f'Trial # {trial}')\n",
    "    n = randint(6, 11)\n",
    "    cost_matrix = create_cost(n)\n",
    "    constraints = [(1, 3), (4, 2), (n-1, 1), (n-2, 2)]\n",
    "    tour = tsp_with_extra_constraints(n, cost_matrix, constraints)\n",
    "    i = 0\n",
    "    tour_cost = 0\n",
    "    for j in tour[1:]:\n",
    "        tour_cost += cost_matrix[i][j]\n",
    "        i = j\n",
    "    tour_cost += cost_matrix[i][0]\n",
    "    print(f'Tour:{tour}')\n",
    "    print(f'Cost of your tour: {tour_cost}')\n",
    "    for i in range(n):\n",
    "        num = sum([1 if j == i else 0 for j in tour])\n",
    "        assert  num == 1, f'Vertex {i} repeats {num} times in tour'\n",
    "    for (i, j) in constraints:\n",
    "        assert tour.index(i) < tour.index(j), f'Tour does not respect constraint {(i,j)}'\n",
    "print('Test Passed (10 points)')"
   ]
  },
  {
   "cell_type": "markdown",
   "metadata": {
    "deletable": false,
    "editable": false,
    "nbgrader": {
     "cell_type": "markdown",
     "checksum": "190693d55308cde180115bd430bc3eaf",
     "grade": false,
     "grade_id": "cell-6ea801ecafe10722",
     "locked": true,
     "schema_version": 3,
     "solution": false,
     "task": false
    }
   },
   "source": [
    "## Answers to Select Problems\n",
    "\n",
    "### 1A part A\n",
    "\n",
    "- Vertex 0: $k$ edges leave and $k$ edges enter.\n",
    "- Vertex 1, ..., n-1: 1 edge leaves and 1 edge enters (same as TSP).\n",
    "\n",
    "### 1A part B\n",
    "\n",
    "This is a trick question. There is no need to change any of the time stamp related constraints.\n"
   ]
  },
  {
   "cell_type": "markdown",
   "metadata": {
    "deletable": false,
    "editable": false,
    "nbgrader": {
     "cell_type": "markdown",
     "checksum": "a1dcc96f17cdedf717d7a923915117c3",
     "grade": false,
     "grade_id": "cell-e31b1cce9d75b156",
     "locked": true,
     "schema_version": 3,
     "solution": false,
     "task": false
    }
   },
   "source": [
    "## That's All Folks!"
   ]
  }
 ],
 "metadata": {
  "kernelspec": {
   "display_name": "Python 3",
   "language": "python",
   "name": "python3"
  },
  "language_info": {
   "codemirror_mode": {
    "name": "ipython",
    "version": 3
   },
   "file_extension": ".py",
   "mimetype": "text/x-python",
   "name": "python",
   "nbconvert_exporter": "python",
   "pygments_lexer": "ipython3",
   "version": "3.7.6"
  }
 },
 "nbformat": 4,
 "nbformat_minor": 5
}
